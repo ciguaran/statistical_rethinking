{
 "cells": [
  {
   "cell_type": "code",
   "execution_count": 1,
   "id": "9296be96",
   "metadata": {
    "pycharm": {
     "name": "#%%\n"
    }
   },
   "outputs": [],
   "source": [
    "# https://github.com/rmcelreath/stat_rethinking_2023/blob/main/homework/week01.pdf"
   ]
  },
  {
   "cell_type": "code",
   "execution_count": 121,
   "id": "e89f77df",
   "metadata": {
    "pycharm": {
     "name": "#%%\n"
    }
   },
   "outputs": [],
   "source": [
    "import matplotlib.pyplot as plt\n",
    "import pymc as pm \n",
    "import arviz as az\n",
    "import numpy as np\n",
    "import scipy.stats as stats\n",
    "import pandas as pd"
   ]
  },
  {
   "cell_type": "code",
   "execution_count": 122,
   "id": "65668d02",
   "metadata": {
    "pycharm": {
     "name": "#%%\n"
    }
   },
   "outputs": [],
   "source": [
    "def posterior_grid_approx(points=5, success=6, tosses=9, prior=lambda x:1):\n",
    "    \"\"\"\n",
    "    success ~ Binomial(n,p)\n",
    "    p ~ Uniform(0,1)\n",
    "    \"\"\"\n",
    "    grid = np.linspace(0, 1, points)\n",
    "    likelihood = stats.binom.pmf(success, tosses, grid)\n",
    "    unnormalized_posterior = likelihood*prior(grid) \n",
    "    normalized_posterior =  unnormalized_posterior / sum(unnormalized_posterior) \n",
    "    return pd.DataFrame({'param_value':grid, 'p':normalized_posterior})"
   ]
  },
  {
   "cell_type": "code",
   "execution_count": 123,
   "id": "035cba84",
   "metadata": {
    "pycharm": {
     "name": "#%%\n"
    }
   },
   "outputs": [
    {
     "data": {
      "text/plain": [
       "[<matplotlib.lines.Line2D at 0x12bc04610>]"
      ]
     },
     "execution_count": 123,
     "metadata": {},
     "output_type": "execute_result"
    },
    {
     "data": {
      "image/png": "[encoded data removed]",
      "text/plain": [
       "<Figure size 640x480 with 1 Axes>"
      ]
     },
     "metadata": {},
     "output_type": "display_data"
    }
   ],
   "source": [
    "df = posterior_grid_approx(100, 4,15)\n",
    "plt.plot(df.param_value, df.p)"
   ]
  },
  {
   "cell_type": "code",
   "execution_count": 125,
   "id": "d3438765",
   "metadata": {
    "pycharm": {
     "name": "#%%\n"
    }
   },
   "outputs": [],
   "source": [
    "samples = []\n",
    "expected_samples=1000\n",
    "while len(samples)<expected_samples:\n",
    "    index = np.random.choice(range(0,len(df)))\n",
    "    flip=np.random.binomial(1,df.iloc[index].p)\n",
    "    if flip > 0.5:\n",
    "        samples.append(np.random.binomial(5,df.iloc[index].param_value))\n",
    "\n"
   ]
  },
  {
   "cell_type": "code",
   "execution_count": 127,
   "id": "45149778",
   "metadata": {
    "pycharm": {
     "name": "#%%\n"
    }
   },
   "outputs": [
    {
     "data": {
      "text/plain": [
       "0.19"
      ]
     },
     "execution_count": 127,
     "metadata": {},
     "output_type": "execute_result"
    }
   ],
   "source": [
    "sum(np.array(samples) >= 3)/len(samples)"
   ]
  },
  {
   "cell_type": "code",
   "execution_count": 138,
   "id": "5fed5320",
   "metadata": {
    "pycharm": {
     "name": "#%%\n"
    }
   },
   "outputs": [
    {
     "data": {
      "text/html": [
       "<div>\n",
       "<style scoped>\n",
       "    .dataframe tbody tr th:only-of-type {\n",
       "        vertical-align: middle;\n",
       "    }\n",
       "\n",
       "    .dataframe tbody tr th {\n",
       "        vertical-align: top;\n",
       "    }\n",
       "\n",
       "    .dataframe thead th {\n",
       "        text-align: right;\n",
       "    }\n",
       "</style>\n",
       "<table border=\"1\" class=\"dataframe\">\n",
       "  <thead>\n",
       "    <tr style=\"text-align: right;\">\n",
       "      <th></th>\n",
       "      <th>b</th>\n",
       "    </tr>\n",
       "    <tr>\n",
       "      <th>a</th>\n",
       "      <th></th>\n",
       "    </tr>\n",
       "  </thead>\n",
       "  <tbody>\n",
       "    <tr>\n",
       "      <th>0</th>\n",
       "      <td>0.213</td>\n",
       "    </tr>\n",
       "    <tr>\n",
       "      <th>1</th>\n",
       "      <td>0.341</td>\n",
       "    </tr>\n",
       "    <tr>\n",
       "      <th>2</th>\n",
       "      <td>0.256</td>\n",
       "    </tr>\n",
       "    <tr>\n",
       "      <th>3</th>\n",
       "      <td>0.151</td>\n",
       "    </tr>\n",
       "    <tr>\n",
       "      <th>4</th>\n",
       "      <td>0.033</td>\n",
       "    </tr>\n",
       "    <tr>\n",
       "      <th>5</th>\n",
       "      <td>0.006</td>\n",
       "    </tr>\n",
       "  </tbody>\n",
       "</table>\n",
       "</div>"
      ],
      "text/plain": [
       "       b\n",
       "a       \n",
       "0  0.213\n",
       "1  0.341\n",
       "2  0.256\n",
       "3  0.151\n",
       "4  0.033\n",
       "5  0.006"
      ]
     },
     "execution_count": 138,
     "metadata": {},
     "output_type": "execute_result"
    }
   ],
   "source": [
    "grouped = pd.DataFrame({'a':samples, 'b':1}).groupby('a').sum()\n",
    "grouped['b'] = grouped['b']/sum(grouped['b'])\n",
    "grouped"
   ]
  },
  {
   "cell_type": "code",
   "execution_count": 107,
   "id": "37d8a9cf",
   "metadata": {
    "pycharm": {
     "name": "#%%\n"
    }
   },
   "outputs": [],
   "source": [
    "likelihood=[]\n",
    "for tosses in range(5, 21):\n",
    "    likelihood.append(stats.binom.pmf(k=5, n=tosses, p=0.7))\n",
    "\n",
    "df3 = pd.DataFrame({'param_value':range(5, 21), 'p':likelihood})"
   ]
  },
  {
   "cell_type": "code",
   "execution_count": 110,
   "id": "77b0b5b6",
   "metadata": {
    "pycharm": {
     "name": "#%%\n"
    }
   },
   "outputs": [
    {
     "data": {
      "text/plain": [
       "[<matplotlib.lines.Line2D at 0x12ba9ec90>]"
      ]
     },
     "execution_count": 110,
     "metadata": {},
     "output_type": "execute_result"
    },
    {
     "data": {
      "image/png": "[encoded data removed]",
      "text/plain": [
       "<Figure size 640x480 with 1 Axes>"
      ]
     },
     "metadata": {},
     "output_type": "display_data"
    }
   ],
   "source": [
    "plt.plot(df3.param_value, df3.p/sum(df3.p), 'o')"
   ]
  }
 ],
 "metadata": {
  "kernelspec": {
   "display_name": "Python 3 (ipykernel)",
   "language": "python",
   "name": "python3"
  },
  "language_info": {
   "codemirror_mode": {
    "name": "ipython",
    "version": 3
   },
   "file_extension": ".py",
   "mimetype": "text/x-python",
   "name": "python",
   "nbconvert_exporter": "python",
   "pygments_lexer": "ipython3",
   "version": "3.7.10"
  }
 },
 "nbformat": 4,
 "nbformat_minor": 5
}