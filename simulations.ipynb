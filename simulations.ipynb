{
 "cells": [
  {
   "cell_type": "markdown",
   "id": "9d5c1cd5-4525-476c-b42a-6975ec589bcd",
   "metadata": {},
   "source": [
    "# Simulations"
   ]
  },
  {
   "cell_type": "code",
   "execution_count": 19,
   "id": "4b5620d7-e30c-4537-b423-fdb11d50d3f1",
   "metadata": {},
   "outputs": [],
   "source": [
    "import numpy as np\n",
    "import pandas as pd\n",
    "import pymc3 as pm\n",
    "import arviz as az\n",
    "import statsmodels.api as sm\n"
   ]
  },
  {
   "cell_type": "markdown",
   "id": "11953d14-7795-4620-81cd-d1e4ae7c9333",
   "metadata": {},
   "source": [
    "## Simulating spurius association"
   ]
  },
  {
   "cell_type": "code",
   "execution_count": 2,
   "id": "2ebbdb8e-ea53-40df-8f00-9f3a97e02cf1",
   "metadata": {},
   "outputs": [],
   "source": [
    "n = 100"
   ]
  },
  {
   "cell_type": "code",
   "execution_count": 3,
   "id": "2f9680c8-8693-49d3-bcaf-78f57d42f392",
   "metadata": {},
   "outputs": [],
   "source": [
    "x_real = np.random.normal(size=n)"
   ]
  },
  {
   "cell_type": "code",
   "execution_count": 4,
   "id": "9cfcbc30-ed72-46df-978f-bbebe3600af5",
   "metadata": {},
   "outputs": [],
   "source": [
    "x_spurius  = np.random.normal(loc=x_real, size=n)"
   ]
  },
  {
   "cell_type": "code",
   "execution_count": 5,
   "id": "d23f9995-006a-4d98-bbdf-245999b21869",
   "metadata": {},
   "outputs": [],
   "source": [
    "y = np.random.normal(loc=x_real, size=n)"
   ]
  },
  {
   "cell_type": "code",
   "execution_count": 6,
   "id": "2ba0f75e-374d-4967-9aa8-5db07536355e",
   "metadata": {},
   "outputs": [],
   "source": [
    "df = pd.DataFrame({'x_real':x_real, 'x_spurius':x_spurius, 'y':y})"
   ]
  },
  {
   "cell_type": "code",
   "execution_count": 7,
   "id": "9efb12a2-06c7-4233-8d9e-ff8a2422131f",
   "metadata": {},
   "outputs": [
    {
     "data": {
      "text/html": [
       "<div>\n",
       "<style scoped>\n",
       "    .dataframe tbody tr th:only-of-type {\n",
       "        vertical-align: middle;\n",
       "    }\n",
       "\n",
       "    .dataframe tbody tr th {\n",
       "        vertical-align: top;\n",
       "    }\n",
       "\n",
       "    .dataframe thead th {\n",
       "        text-align: right;\n",
       "    }\n",
       "</style>\n",
       "<table border=\"1\" class=\"dataframe\">\n",
       "  <thead>\n",
       "    <tr style=\"text-align: right;\">\n",
       "      <th></th>\n",
       "      <th>x_real</th>\n",
       "      <th>x_spurius</th>\n",
       "      <th>y</th>\n",
       "    </tr>\n",
       "  </thead>\n",
       "  <tbody>\n",
       "    <tr>\n",
       "      <th>x_real</th>\n",
       "      <td>1.000000</td>\n",
       "      <td>0.810459</td>\n",
       "      <td>0.756883</td>\n",
       "    </tr>\n",
       "    <tr>\n",
       "      <th>x_spurius</th>\n",
       "      <td>0.810459</td>\n",
       "      <td>1.000000</td>\n",
       "      <td>0.625050</td>\n",
       "    </tr>\n",
       "    <tr>\n",
       "      <th>y</th>\n",
       "      <td>0.756883</td>\n",
       "      <td>0.625050</td>\n",
       "      <td>1.000000</td>\n",
       "    </tr>\n",
       "  </tbody>\n",
       "</table>\n",
       "</div>"
      ],
      "text/plain": [
       "             x_real  x_spurius         y\n",
       "x_real     1.000000   0.810459  0.756883\n",
       "x_spurius  0.810459   1.000000  0.625050\n",
       "y          0.756883   0.625050  1.000000"
      ]
     },
     "execution_count": 7,
     "metadata": {},
     "output_type": "execute_result"
    }
   ],
   "source": [
    "df.corr()"
   ]
  },
  {
   "cell_type": "code",
   "execution_count": 8,
   "id": "11dc1587-5d88-4bfc-848e-586c5fb346f1",
   "metadata": {},
   "outputs": [
    {
     "name": "stderr",
     "output_type": "stream",
     "text": [
      "Auto-assigning NUTS sampler...\n",
      "Initializing NUTS using jitter+adapt_diag...\n",
      "Multiprocess sampling (4 chains in 4 jobs)\n",
      "NUTS: [sigma, beta_spurius, beta_real, alpha]\n"
     ]
    },
    {
     "data": {
      "text/html": [
       "\n",
       "    <div>\n",
       "        <style>\n",
       "            /* Turns off some styling */\n",
       "            progress {\n",
       "                /* gets rid of default border in Firefox and Opera. */\n",
       "                border: none;\n",
       "                /* Needs to be in here for Safari polyfill so background images work as expected. */\n",
       "                background-size: auto;\n",
       "            }\n",
       "            .progress-bar-interrupted, .progress-bar-interrupted::-webkit-progress-bar {\n",
       "                background: #F44336;\n",
       "            }\n",
       "        </style>\n",
       "      <progress value='8000' class='' max='8000' style='width:300px; height:20px; vertical-align: middle;'></progress>\n",
       "      100.00% [8000/8000 00:03<00:00 Sampling 4 chains, 0 divergences]\n",
       "    </div>\n",
       "    "
      ],
      "text/plain": [
       "<IPython.core.display.HTML object>"
      ]
     },
     "metadata": {},
     "output_type": "display_data"
    },
    {
     "name": "stderr",
     "output_type": "stream",
     "text": [
      "Sampling 4 chains for 1_000 tune and 1_000 draw iterations (4_000 + 4_000 draws total) took 17 seconds.\n",
      "The acceptance probability does not match the target. It is 0.7064795603773494, but should be close to 0.8. Try to increase the number of tuning steps.\n"
     ]
    }
   ],
   "source": [
    "with pm.Model() as m1:\n",
    "    alpha = pm.Normal('alpha', 0, 0.2)\n",
    "    beta_real = pm.Normal('beta_real', 0, 0.5)\n",
    "    beta_spurius = pm.Normal('beta_spurius', 0, 0.5)\n",
    "    sigma = pm.Exponential('sigma', 1)\n",
    "    mu = pm.Deterministic('mu', alpha + beta_real * df['x_real'] + beta_spurius * df['x_spurius'])\n",
    "    y = pm.Normal('y', mu, sd=sigma, observed=df['y'])\n",
    "    m1_trace = pm.sample(return_inferencedata=True)\n",
    "    m1_prior_pred = pm.sample_prior_predictive()"
   ]
  },
  {
   "cell_type": "code",
   "execution_count": 9,
   "id": "bed6ead5-3141-4679-b633-efd9fbab2625",
   "metadata": {},
   "outputs": [
    {
     "data": {
      "text/html": [
       "<div>\n",
       "<style scoped>\n",
       "    .dataframe tbody tr th:only-of-type {\n",
       "        vertical-align: middle;\n",
       "    }\n",
       "\n",
       "    .dataframe tbody tr th {\n",
       "        vertical-align: top;\n",
       "    }\n",
       "\n",
       "    .dataframe thead th {\n",
       "        text-align: right;\n",
       "    }\n",
       "</style>\n",
       "<table border=\"1\" class=\"dataframe\">\n",
       "  <thead>\n",
       "    <tr style=\"text-align: right;\">\n",
       "      <th></th>\n",
       "      <th>mean</th>\n",
       "      <th>sd</th>\n",
       "      <th>hdi_3%</th>\n",
       "      <th>hdi_97%</th>\n",
       "      <th>mcse_mean</th>\n",
       "      <th>mcse_sd</th>\n",
       "      <th>ess_bulk</th>\n",
       "      <th>ess_tail</th>\n",
       "      <th>r_hat</th>\n",
       "    </tr>\n",
       "  </thead>\n",
       "  <tbody>\n",
       "    <tr>\n",
       "      <th>beta_real</th>\n",
       "      <td>0.935</td>\n",
       "      <td>0.151</td>\n",
       "      <td>0.664</td>\n",
       "      <td>1.220</td>\n",
       "      <td>0.003</td>\n",
       "      <td>0.002</td>\n",
       "      <td>2155.0</td>\n",
       "      <td>2162.0</td>\n",
       "      <td>1.0</td>\n",
       "    </tr>\n",
       "    <tr>\n",
       "      <th>beta_spurius</th>\n",
       "      <td>0.085</td>\n",
       "      <td>0.109</td>\n",
       "      <td>-0.114</td>\n",
       "      <td>0.302</td>\n",
       "      <td>0.002</td>\n",
       "      <td>0.002</td>\n",
       "      <td>2127.0</td>\n",
       "      <td>2008.0</td>\n",
       "      <td>1.0</td>\n",
       "    </tr>\n",
       "  </tbody>\n",
       "</table>\n",
       "</div>"
      ],
      "text/plain": [
       "               mean     sd  hdi_3%  hdi_97%  mcse_mean  mcse_sd  ess_bulk  \\\n",
       "beta_real     0.935  0.151   0.664    1.220      0.003    0.002    2155.0   \n",
       "beta_spurius  0.085  0.109  -0.114    0.302      0.002    0.002    2127.0   \n",
       "\n",
       "              ess_tail  r_hat  \n",
       "beta_real       2162.0    1.0  \n",
       "beta_spurius    2008.0    1.0  "
      ]
     },
     "execution_count": 9,
     "metadata": {},
     "output_type": "execute_result"
    }
   ],
   "source": [
    "az.summary(m1_trace, var_names=['beta_real', 'beta_spurius'])"
   ]
  },
  {
   "cell_type": "code",
   "execution_count": 21,
   "id": "e27f9801-4a40-4b98-9eff-854b0e7c06c2",
   "metadata": {},
   "outputs": [
    {
     "name": "stdout",
     "output_type": "stream",
     "text": [
      "                                 OLS Regression Results                                \n",
      "=======================================================================================\n",
      "Dep. Variable:                      y   R-squared (uncentered):                   0.569\n",
      "Model:                            OLS   Adj. R-squared (uncentered):              0.560\n",
      "Method:                 Least Squares   F-statistic:                              64.76\n",
      "Date:                Thu, 31 Mar 2022   Prob (F-statistic):                    1.19e-18\n",
      "Time:                        12:44:14   Log-Likelihood:                         -137.49\n",
      "No. Observations:                 100   AIC:                                      279.0\n",
      "Df Residuals:                      98   BIC:                                      284.2\n",
      "Df Model:                           2                                                  \n",
      "Covariance Type:            nonrobust                                                  \n",
      "==============================================================================\n",
      "                 coef    std err          t      P>|t|      [0.025      0.975]\n",
      "------------------------------------------------------------------------------\n",
      "x_real         1.0387      0.159      6.522      0.000       0.723       1.355\n",
      "x_spurius      0.0221      0.113      0.196      0.845      -0.201       0.245\n",
      "==============================================================================\n",
      "Omnibus:                       10.711   Durbin-Watson:                   2.133\n",
      "Prob(Omnibus):                  0.005   Jarque-Bera (JB):               14.927\n",
      "Skew:                          -0.505   Prob(JB):                     0.000574\n",
      "Kurtosis:                       4.601   Cond. No.                         3.31\n",
      "==============================================================================\n",
      "\n",
      "Notes:\n",
      "[1] R² is computed without centering (uncentered) since the model does not contain a constant.\n",
      "[2] Standard Errors assume that the covariance matrix of the errors is correctly specified.\n",
      "                                 OLS Regression Results                                \n",
      "=======================================================================================\n",
      "Dep. Variable:                      y   R-squared (uncentered):                   0.569\n",
      "Model:                            OLS   Adj. R-squared (uncentered):              0.565\n",
      "Method:                 Least Squares   F-statistic:                              130.8\n",
      "Date:                Thu, 31 Mar 2022   Prob (F-statistic):                    8.39e-20\n",
      "Time:                        12:44:14   Log-Likelihood:                         -137.51\n",
      "No. Observations:                 100   AIC:                                      277.0\n",
      "Df Residuals:                      99   BIC:                                      279.6\n",
      "Df Model:                           1                                                  \n",
      "Covariance Type:            nonrobust                                                  \n",
      "==============================================================================\n",
      "                 coef    std err          t      P>|t|      [0.025      0.975]\n",
      "------------------------------------------------------------------------------\n",
      "x_real         1.0640      0.093     11.435      0.000       0.879       1.249\n",
      "==============================================================================\n",
      "Omnibus:                       10.912   Durbin-Watson:                   2.137\n",
      "Prob(Omnibus):                  0.004   Jarque-Bera (JB):               15.465\n",
      "Skew:                          -0.507   Prob(JB):                     0.000438\n",
      "Kurtosis:                       4.638   Cond. No.                         1.00\n",
      "==============================================================================\n",
      "\n",
      "Notes:\n",
      "[1] R² is computed without centering (uncentered) since the model does not contain a constant.\n",
      "[2] Standard Errors assume that the covariance matrix of the errors is correctly specified.\n",
      "                                 OLS Regression Results                                \n",
      "=======================================================================================\n",
      "Dep. Variable:                      y   R-squared (uncentered):                   0.382\n",
      "Model:                            OLS   Adj. R-squared (uncentered):              0.376\n",
      "Method:                 Least Squares   F-statistic:                              61.27\n",
      "Date:                Thu, 31 Mar 2022   Prob (F-statistic):                    5.60e-12\n",
      "Time:                        12:44:14   Log-Likelihood:                         -155.52\n",
      "No. Observations:                 100   AIC:                                      313.0\n",
      "Df Residuals:                      99   BIC:                                      315.6\n",
      "Df Model:                           1                                                  \n",
      "Covariance Type:            nonrobust                                                  \n",
      "==============================================================================\n",
      "                 coef    std err          t      P>|t|      [0.025      0.975]\n",
      "------------------------------------------------------------------------------\n",
      "x_spurius      0.6163      0.079      7.828      0.000       0.460       0.773\n",
      "==============================================================================\n",
      "Omnibus:                        3.527   Durbin-Watson:                   1.979\n",
      "Prob(Omnibus):                  0.171   Jarque-Bera (JB):                3.408\n",
      "Skew:                          -0.449   Prob(JB):                        0.182\n",
      "Kurtosis:                       2.885   Cond. No.                         1.00\n",
      "==============================================================================\n",
      "\n",
      "Notes:\n",
      "[1] R² is computed without centering (uncentered) since the model does not contain a constant.\n",
      "[2] Standard Errors assume that the covariance matrix of the errors is correctly specified.\n"
     ]
    }
   ],
   "source": [
    "model = sm.OLS(df['y'], df[['x_real','x_spurius']])\n",
    "results = model.fit()\n",
    "print(results.summary())\n",
    "model = sm.OLS(df['y'], df[['x_real']])\n",
    "results = model.fit()\n",
    "print(results.summary())\n",
    "model = sm.OLS(df['y'], df[['x_spurius']])\n",
    "results = model.fit()\n",
    "print(results.summary())"
   ]
  },
  {
   "cell_type": "markdown",
   "id": "f8cdb4ed-9a6e-4cb9-b960-9d00e3cfcf4e",
   "metadata": {},
   "source": [
    "# Simulating a masking relationship"
   ]
  },
  {
   "cell_type": "markdown",
   "id": "8c07cba8-54ea-4062-97a8-175776bf41b1",
   "metadata": {},
   "source": [
    "Imagine M->K<-A"
   ]
  },
  {
   "cell_type": "code",
   "execution_count": 10,
   "id": "6d9a2216-482f-44d6-be33-0746ed5cc506",
   "metadata": {},
   "outputs": [],
   "source": [
    "n=100\n",
    "x1 = np.random.normal(size=n)"
   ]
  },
  {
   "cell_type": "code",
   "execution_count": 11,
   "id": "2dba34fd-f72d-4d66-8cdb-a68f46a2b5b7",
   "metadata": {},
   "outputs": [],
   "source": [
    "x2 = np.random.normal(size=n, loc=x1)"
   ]
  },
  {
   "cell_type": "code",
   "execution_count": 12,
   "id": "ad88dd6a-11b8-4e19-8870-4dd1fe8b2742",
   "metadata": {},
   "outputs": [],
   "source": [
    "y = np.random.normal(size=n, loc=x2-x1)"
   ]
  },
  {
   "cell_type": "code",
   "execution_count": 13,
   "id": "3cb96a78-26de-43ef-bfff-fb20f469cd5d",
   "metadata": {},
   "outputs": [],
   "source": [
    "df2 = pd.DataFrame({'y':y, 'x1':x1, 'x2':x2})"
   ]
  },
  {
   "cell_type": "code",
   "execution_count": 14,
   "id": "56d3627e-ee1a-40f9-8bac-8eff0e53fa22",
   "metadata": {},
   "outputs": [
    {
     "data": {
      "text/html": [
       "<div>\n",
       "<style scoped>\n",
       "    .dataframe tbody tr th:only-of-type {\n",
       "        vertical-align: middle;\n",
       "    }\n",
       "\n",
       "    .dataframe tbody tr th {\n",
       "        vertical-align: top;\n",
       "    }\n",
       "\n",
       "    .dataframe thead th {\n",
       "        text-align: right;\n",
       "    }\n",
       "</style>\n",
       "<table border=\"1\" class=\"dataframe\">\n",
       "  <thead>\n",
       "    <tr style=\"text-align: right;\">\n",
       "      <th></th>\n",
       "      <th>y</th>\n",
       "      <th>x1</th>\n",
       "      <th>x2</th>\n",
       "    </tr>\n",
       "  </thead>\n",
       "  <tbody>\n",
       "    <tr>\n",
       "      <th>y</th>\n",
       "      <td>1.000000</td>\n",
       "      <td>-0.080504</td>\n",
       "      <td>0.521799</td>\n",
       "    </tr>\n",
       "    <tr>\n",
       "      <th>x1</th>\n",
       "      <td>-0.080504</td>\n",
       "      <td>1.000000</td>\n",
       "      <td>0.611973</td>\n",
       "    </tr>\n",
       "    <tr>\n",
       "      <th>x2</th>\n",
       "      <td>0.521799</td>\n",
       "      <td>0.611973</td>\n",
       "      <td>1.000000</td>\n",
       "    </tr>\n",
       "  </tbody>\n",
       "</table>\n",
       "</div>"
      ],
      "text/plain": [
       "           y        x1        x2\n",
       "y   1.000000 -0.080504  0.521799\n",
       "x1 -0.080504  1.000000  0.611973\n",
       "x2  0.521799  0.611973  1.000000"
      ]
     },
     "execution_count": 14,
     "metadata": {},
     "output_type": "execute_result"
    }
   ],
   "source": [
    "df2.corr()"
   ]
  },
  {
   "cell_type": "code",
   "execution_count": 15,
   "id": "5a5abf15-d79a-494e-8085-00b6ba91761b",
   "metadata": {},
   "outputs": [
    {
     "name": "stderr",
     "output_type": "stream",
     "text": [
      "Auto-assigning NUTS sampler...\n",
      "Initializing NUTS using jitter+adapt_diag...\n",
      "Multiprocess sampling (4 chains in 4 jobs)\n",
      "NUTS: [sigma, beta_x2, beta_x1, alpha]\n"
     ]
    },
    {
     "data": {
      "text/html": [
       "\n",
       "    <div>\n",
       "        <style>\n",
       "            /* Turns off some styling */\n",
       "            progress {\n",
       "                /* gets rid of default border in Firefox and Opera. */\n",
       "                border: none;\n",
       "                /* Needs to be in here for Safari polyfill so background images work as expected. */\n",
       "                background-size: auto;\n",
       "            }\n",
       "            .progress-bar-interrupted, .progress-bar-interrupted::-webkit-progress-bar {\n",
       "                background: #F44336;\n",
       "            }\n",
       "        </style>\n",
       "      <progress value='8000' class='' max='8000' style='width:300px; height:20px; vertical-align: middle;'></progress>\n",
       "      100.00% [8000/8000 00:03<00:00 Sampling 4 chains, 0 divergences]\n",
       "    </div>\n",
       "    "
      ],
      "text/plain": [
       "<IPython.core.display.HTML object>"
      ]
     },
     "metadata": {},
     "output_type": "display_data"
    },
    {
     "name": "stderr",
     "output_type": "stream",
     "text": [
      "Sampling 4 chains for 1_000 tune and 1_000 draw iterations (4_000 + 4_000 draws total) took 16 seconds.\n"
     ]
    }
   ],
   "source": [
    "with pm.Model() as m2:\n",
    "    alpha = pm.Normal('alpha', 0, 0.2)\n",
    "    beta_x1 = pm.Normal('beta_x1', 0, 0.5)\n",
    "    beta_x2 = pm.Normal('beta_x2', 0, 0.5)\n",
    "    sigma = pm.Exponential('sigma', 1)\n",
    "    mu = pm.Deterministic('mu', alpha + beta_x1 * df2['x1'] + beta_x2 * df2['x2'])\n",
    "    y = pm.Normal('y', mu, sd=sigma, observed=df2['y'])\n",
    "    m2_trace = pm.sample(return_inferencedata=True)\n",
    "    m2_prior_pred = pm.sample_prior_predictive()"
   ]
  },
  {
   "cell_type": "code",
   "execution_count": 16,
   "id": "73b58050-c442-4854-9705-91b5094cd36c",
   "metadata": {},
   "outputs": [
    {
     "data": {
      "text/html": [
       "<div>\n",
       "<style scoped>\n",
       "    .dataframe tbody tr th:only-of-type {\n",
       "        vertical-align: middle;\n",
       "    }\n",
       "\n",
       "    .dataframe tbody tr th {\n",
       "        vertical-align: top;\n",
       "    }\n",
       "\n",
       "    .dataframe thead th {\n",
       "        text-align: right;\n",
       "    }\n",
       "</style>\n",
       "<table border=\"1\" class=\"dataframe\">\n",
       "  <thead>\n",
       "    <tr style=\"text-align: right;\">\n",
       "      <th></th>\n",
       "      <th>mean</th>\n",
       "      <th>sd</th>\n",
       "      <th>hdi_3%</th>\n",
       "      <th>hdi_97%</th>\n",
       "      <th>mcse_mean</th>\n",
       "      <th>mcse_sd</th>\n",
       "      <th>ess_bulk</th>\n",
       "      <th>ess_tail</th>\n",
       "      <th>r_hat</th>\n",
       "    </tr>\n",
       "  </thead>\n",
       "  <tbody>\n",
       "    <tr>\n",
       "      <th>beta_x1</th>\n",
       "      <td>-0.958</td>\n",
       "      <td>0.149</td>\n",
       "      <td>-1.238</td>\n",
       "      <td>-0.683</td>\n",
       "      <td>0.003</td>\n",
       "      <td>0.002</td>\n",
       "      <td>2975.0</td>\n",
       "      <td>3036.0</td>\n",
       "      <td>1.0</td>\n",
       "    </tr>\n",
       "    <tr>\n",
       "      <th>beta_x2</th>\n",
       "      <td>0.993</td>\n",
       "      <td>0.105</td>\n",
       "      <td>0.795</td>\n",
       "      <td>1.190</td>\n",
       "      <td>0.002</td>\n",
       "      <td>0.001</td>\n",
       "      <td>3020.0</td>\n",
       "      <td>3148.0</td>\n",
       "      <td>1.0</td>\n",
       "    </tr>\n",
       "  </tbody>\n",
       "</table>\n",
       "</div>"
      ],
      "text/plain": [
       "          mean     sd  hdi_3%  hdi_97%  mcse_mean  mcse_sd  ess_bulk  \\\n",
       "beta_x1 -0.958  0.149  -1.238   -0.683      0.003    0.002    2975.0   \n",
       "beta_x2  0.993  0.105   0.795    1.190      0.002    0.001    3020.0   \n",
       "\n",
       "         ess_tail  r_hat  \n",
       "beta_x1    3036.0    1.0  \n",
       "beta_x2    3148.0    1.0  "
      ]
     },
     "execution_count": 16,
     "metadata": {},
     "output_type": "execute_result"
    }
   ],
   "source": [
    "az.summary(m2_trace, var_names=['beta_x1', 'beta_x2'])"
   ]
  },
  {
   "cell_type": "code",
   "execution_count": 23,
   "id": "e824a34c-8db9-4d44-a6b8-54079856ada4",
   "metadata": {},
   "outputs": [
    {
     "name": "stdout",
     "output_type": "stream",
     "text": [
      "                                 OLS Regression Results                                \n",
      "=======================================================================================\n",
      "Dep. Variable:                      y   R-squared (uncentered):                   0.527\n",
      "Model:                            OLS   Adj. R-squared (uncentered):              0.517\n",
      "Method:                 Least Squares   F-statistic:                              54.61\n",
      "Date:                Thu, 31 Mar 2022   Prob (F-statistic):                    1.16e-16\n",
      "Time:                        12:45:39   Log-Likelihood:                         -141.75\n",
      "No. Observations:                 100   AIC:                                      287.5\n",
      "Df Residuals:                      98   BIC:                                      292.7\n",
      "Df Model:                           2                                                  \n",
      "Covariance Type:            nonrobust                                                  \n",
      "==============================================================================\n",
      "                 coef    std err          t      P>|t|      [0.025      0.975]\n",
      "------------------------------------------------------------------------------\n",
      "x1            -1.0920      0.147     -7.433      0.000      -1.384      -0.800\n",
      "x2             1.0728      0.103     10.378      0.000       0.868       1.278\n",
      "==============================================================================\n",
      "Omnibus:                        1.475   Durbin-Watson:                   2.106\n",
      "Prob(Omnibus):                  0.478   Jarque-Bera (JB):                1.413\n",
      "Skew:                          -0.284   Prob(JB):                        0.493\n",
      "Kurtosis:                       2.870   Cond. No.                         2.28\n",
      "==============================================================================\n",
      "\n",
      "Notes:\n",
      "[1] R² is computed without centering (uncentered) since the model does not contain a constant.\n",
      "[2] Standard Errors assume that the covariance matrix of the errors is correctly specified.\n",
      "                                 OLS Regression Results                                \n",
      "=======================================================================================\n",
      "Dep. Variable:                      y   R-squared (uncentered):                   0.007\n",
      "Model:                            OLS   Adj. R-squared (uncentered):             -0.003\n",
      "Method:                 Least Squares   F-statistic:                             0.7301\n",
      "Date:                Thu, 31 Mar 2022   Prob (F-statistic):                       0.395\n",
      "Time:                        12:45:39   Log-Likelihood:                         -178.83\n",
      "No. Observations:                 100   AIC:                                      359.7\n",
      "Df Residuals:                      99   BIC:                                      362.3\n",
      "Df Model:                           1                                                  \n",
      "Covariance Type:            nonrobust                                                  \n",
      "==============================================================================\n",
      "                 coef    std err          t      P>|t|      [0.025      0.975]\n",
      "------------------------------------------------------------------------------\n",
      "x1            -0.1415      0.166     -0.854      0.395      -0.470       0.187\n",
      "==============================================================================\n",
      "Omnibus:                        1.474   Durbin-Watson:                   1.853\n",
      "Prob(Omnibus):                  0.479   Jarque-Bera (JB):                1.401\n",
      "Skew:                          -0.284   Prob(JB):                        0.496\n",
      "Kurtosis:                       2.880   Cond. No.                         1.00\n",
      "==============================================================================\n",
      "\n",
      "Notes:\n",
      "[1] R² is computed without centering (uncentered) since the model does not contain a constant.\n",
      "[2] Standard Errors assume that the covariance matrix of the errors is correctly specified.\n",
      "                                 OLS Regression Results                                \n",
      "=======================================================================================\n",
      "Dep. Variable:                      y   R-squared (uncentered):                   0.260\n",
      "Model:                            OLS   Adj. R-squared (uncentered):              0.253\n",
      "Method:                 Least Squares   F-statistic:                              34.87\n",
      "Date:                Thu, 31 Mar 2022   Prob (F-statistic):                    4.98e-08\n",
      "Time:                        12:45:39   Log-Likelihood:                         -164.11\n",
      "No. Observations:                 100   AIC:                                      330.2\n",
      "Df Residuals:                      99   BIC:                                      332.8\n",
      "Df Model:                           1                                                  \n",
      "Covariance Type:            nonrobust                                                  \n",
      "==============================================================================\n",
      "                 coef    std err          t      P>|t|      [0.025      0.975]\n",
      "------------------------------------------------------------------------------\n",
      "x2             0.5938      0.101      5.905      0.000       0.394       0.793\n",
      "==============================================================================\n",
      "Omnibus:                        2.826   Durbin-Watson:                   2.067\n",
      "Prob(Omnibus):                  0.243   Jarque-Bera (JB):                2.424\n",
      "Skew:                          -0.379   Prob(JB):                        0.298\n",
      "Kurtosis:                       3.089   Cond. No.                         1.00\n",
      "==============================================================================\n",
      "\n",
      "Notes:\n",
      "[1] R² is computed without centering (uncentered) since the model does not contain a constant.\n",
      "[2] Standard Errors assume that the covariance matrix of the errors is correctly specified.\n"
     ]
    }
   ],
   "source": [
    "model = sm.OLS(df2['y'], df2[['x1','x2']])\n",
    "results = model.fit()\n",
    "print(results.summary())\n",
    "model = sm.OLS(df2['y'], df2[['x1']])\n",
    "results = model.fit()\n",
    "print(results.summary())\n",
    "model = sm.OLS(df2['y'], df2[['x2']])\n",
    "results = model.fit()\n",
    "print(results.summary())"
   ]
  },
  {
   "cell_type": "code",
   "execution_count": null,
   "id": "210fdc41-ea23-49c5-94cb-943b6cf925da",
   "metadata": {},
   "outputs": [],
   "source": []
  }
 ],
 "metadata": {
  "kernelspec": {
   "display_name": "Python 3 (ipykernel)",
   "language": "python",
   "name": "python3"
  },
  "language_info": {
   "codemirror_mode": {
    "name": "ipython",
    "version": 3
   },
   "file_extension": ".py",
   "mimetype": "text/x-python",
   "name": "python",
   "nbconvert_exporter": "python",
   "pygments_lexer": "ipython3",
   "version": "3.8.5"
  }
 },
 "nbformat": 4,
 "nbformat_minor": 5
}
