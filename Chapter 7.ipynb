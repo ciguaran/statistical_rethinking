{
 "cells": [
  {
   "cell_type": "code",
   "execution_count": 16,
   "id": "b7395dd4-4736-4801-bcb2-68de3c449d79",
   "metadata": {},
   "outputs": [],
   "source": [
    "import numpy as np\n",
    "import matplotlib.pyplot as plt\n",
    "import pandas as pd\n",
    "import pymc3 as pm"
   ]
  },
  {
   "cell_type": "code",
   "execution_count": 11,
   "id": "6a914f6d-02c1-49ae-9b27-278fdc38a983",
   "metadata": {},
   "outputs": [],
   "source": [
    "species_names = np.array([\"afarensis\", \"africanus\", \"habilis\", \"boisei\", \"rudolfensis\", \"ergaster\", \"sapiens\"])\n",
    "brain_vol_cc = np.array([438, 452, 612, 521, 752, 871, 1350])\n",
    "mass_kg = np.array([37.0, 35.5, 34.5, 41.5, 55.5, 61.0, 53.5])\n",
    "df = pd.DataFrame({'name': species_names, 'brain_vol_cc': brain_vol_cc, 'mass_kg': mass_kg})"
   ]
  },
  {
   "cell_type": "code",
   "execution_count": 12,
   "id": "3eea9fe9-92e0-4a7c-87cf-94d22ee195cc",
   "metadata": {},
   "outputs": [
    {
     "data": {
      "text/plain": [
       "Text(0, 0.5, 'brain volume (cc)')"
      ]
     },
     "execution_count": 12,
     "metadata": {},
     "output_type": "execute_result"
    },
    {
     "data": {
      "image/png": "[encoded data removed]",
      "text/plain": [
       "<Figure size 432x288 with 1 Axes>"
      ]
     },
     "metadata": {
      "needs_background": "light"
     },
     "output_type": "display_data"
    }
   ],
   "source": [
    "plt.scatter(masskg, brain_vol_cc)\n",
    "plt.xlabel('body mass (kg)')\n",
    "plt.ylabel('brain volume (cc)')"
   ]
  },
  {
   "cell_type": "code",
   "execution_count": 15,
   "id": "2d0c567f-0b9a-4a69-8356-bd20a087801c",
   "metadata": {},
   "outputs": [],
   "source": [
    "df['mass_std'] = (df.mass_kg - np.mean(df.mass_kg)) / np.std(df.mass_kg)\n",
    "df['brain_std'] = df.brain_vol_cc / np.max(df.brain_vol_cc)"
   ]
  },
  {
   "cell_type": "code",
   "execution_count": null,
   "id": "7d290b28-7297-4cfa-ad82-934426179dac",
   "metadata": {},
   "outputs": [],
   "source": [
    "def r2():\n",
    "    \n",
    "    "
   ]
  },
  {
   "cell_type": "code",
   "execution_count": null,
   "id": "11eb4415-3441-43e4-b110-7ebbaaa114ac",
   "metadata": {},
   "outputs": [],
   "source": [
    "with pm.Model as m1:\n",
    "    alpha = pm.Normal('alpha',0.5,1)\n",
    "    beta = pm.Normal('beta', 0,10)\n",
    "    sigma = pm.LogNormal('sigma', 0,1)\n",
    "    mu = pm.Deterministic()\n",
    "    pm.Normal()\n",
    "    \n",
    "    pm.LogNormal(0,1)"
   ]
  }
 ],
 "metadata": {
  "kernelspec": {
   "display_name": "Python 3 (ipykernel)",
   "language": "python",
   "name": "python3"
  },
  "language_info": {
   "codemirror_mode": {
    "name": "ipython",
    "version": 3
   },
   "file_extension": ".py",
   "mimetype": "text/x-python",
   "name": "python",
   "nbconvert_exporter": "python",
   "pygments_lexer": "ipython3",
   "version": "3.8.5"
  }
 },
 "nbformat": 4,
 "nbformat_minor": 5
}
