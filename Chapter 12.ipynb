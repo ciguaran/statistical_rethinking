{
 "cells": [
  {
   "cell_type": "code",
   "execution_count": 26,
   "id": "1caa5a0e",
   "metadata": {},
   "outputs": [],
   "source": [
    "import pandas as pd\n",
    "import arviz as az\n",
    "import pymc as pm\n",
    "import matplotlib.pyplot as plt\n",
    "import numpy as np"
   ]
  },
  {
   "cell_type": "code",
   "execution_count": 6,
   "id": "072ed310",
   "metadata": {},
   "outputs": [],
   "source": [
    "trolley = pd.read_csv('./data/Trolley.csv', sep=';')"
   ]
  },
  {
   "cell_type": "code",
   "execution_count": 7,
   "id": "af1dc8c2",
   "metadata": {},
   "outputs": [
    {
     "data": {
      "text/html": [
       "<div>\n",
       "<style scoped>\n",
       "    .dataframe tbody tr th:only-of-type {\n",
       "        vertical-align: middle;\n",
       "    }\n",
       "\n",
       "    .dataframe tbody tr th {\n",
       "        vertical-align: top;\n",
       "    }\n",
       "\n",
       "    .dataframe thead th {\n",
       "        text-align: right;\n",
       "    }\n",
       "</style>\n",
       "<table border=\"1\" class=\"dataframe\">\n",
       "  <thead>\n",
       "    <tr style=\"text-align: right;\">\n",
       "      <th></th>\n",
       "      <th>case</th>\n",
       "      <th>response</th>\n",
       "      <th>order</th>\n",
       "      <th>id</th>\n",
       "      <th>age</th>\n",
       "      <th>male</th>\n",
       "      <th>edu</th>\n",
       "      <th>action</th>\n",
       "      <th>intention</th>\n",
       "      <th>contact</th>\n",
       "      <th>story</th>\n",
       "      <th>action2</th>\n",
       "    </tr>\n",
       "  </thead>\n",
       "  <tbody>\n",
       "    <tr>\n",
       "      <th>0</th>\n",
       "      <td>cfaqu</td>\n",
       "      <td>4</td>\n",
       "      <td>2</td>\n",
       "      <td>96;434</td>\n",
       "      <td>14</td>\n",
       "      <td>0</td>\n",
       "      <td>Middle School</td>\n",
       "      <td>0</td>\n",
       "      <td>0</td>\n",
       "      <td>1</td>\n",
       "      <td>aqu</td>\n",
       "      <td>1</td>\n",
       "    </tr>\n",
       "    <tr>\n",
       "      <th>1</th>\n",
       "      <td>cfbur</td>\n",
       "      <td>3</td>\n",
       "      <td>31</td>\n",
       "      <td>96;434</td>\n",
       "      <td>14</td>\n",
       "      <td>0</td>\n",
       "      <td>Middle School</td>\n",
       "      <td>0</td>\n",
       "      <td>0</td>\n",
       "      <td>1</td>\n",
       "      <td>bur</td>\n",
       "      <td>1</td>\n",
       "    </tr>\n",
       "    <tr>\n",
       "      <th>2</th>\n",
       "      <td>cfrub</td>\n",
       "      <td>4</td>\n",
       "      <td>16</td>\n",
       "      <td>96;434</td>\n",
       "      <td>14</td>\n",
       "      <td>0</td>\n",
       "      <td>Middle School</td>\n",
       "      <td>0</td>\n",
       "      <td>0</td>\n",
       "      <td>1</td>\n",
       "      <td>rub</td>\n",
       "      <td>1</td>\n",
       "    </tr>\n",
       "    <tr>\n",
       "      <th>3</th>\n",
       "      <td>cibox</td>\n",
       "      <td>3</td>\n",
       "      <td>32</td>\n",
       "      <td>96;434</td>\n",
       "      <td>14</td>\n",
       "      <td>0</td>\n",
       "      <td>Middle School</td>\n",
       "      <td>0</td>\n",
       "      <td>1</td>\n",
       "      <td>1</td>\n",
       "      <td>box</td>\n",
       "      <td>1</td>\n",
       "    </tr>\n",
       "    <tr>\n",
       "      <th>4</th>\n",
       "      <td>cibur</td>\n",
       "      <td>3</td>\n",
       "      <td>4</td>\n",
       "      <td>96;434</td>\n",
       "      <td>14</td>\n",
       "      <td>0</td>\n",
       "      <td>Middle School</td>\n",
       "      <td>0</td>\n",
       "      <td>1</td>\n",
       "      <td>1</td>\n",
       "      <td>bur</td>\n",
       "      <td>1</td>\n",
       "    </tr>\n",
       "  </tbody>\n",
       "</table>\n",
       "</div>"
      ],
      "text/plain": [
       "    case  response  order      id  age  male            edu  action  \\\n",
       "0  cfaqu         4      2  96;434   14     0  Middle School       0   \n",
       "1  cfbur         3     31  96;434   14     0  Middle School       0   \n",
       "2  cfrub         4     16  96;434   14     0  Middle School       0   \n",
       "3  cibox         3     32  96;434   14     0  Middle School       0   \n",
       "4  cibur         3      4  96;434   14     0  Middle School       0   \n",
       "\n",
       "   intention  contact story  action2  \n",
       "0          0        1   aqu        1  \n",
       "1          0        1   bur        1  \n",
       "2          0        1   rub        1  \n",
       "3          1        1   box        1  \n",
       "4          1        1   bur        1  "
      ]
     },
     "execution_count": 7,
     "metadata": {},
     "output_type": "execute_result"
    }
   ],
   "source": [
    "trolley.head()"
   ]
  },
  {
   "cell_type": "code",
   "execution_count": 9,
   "id": "5f0858f8",
   "metadata": {},
   "outputs": [
    {
     "data": {
      "text/plain": [
       "(array([1274.,  909.,    0., 1071.,    0., 2323., 1462.,    0., 1445.,\n",
       "        1446.]),\n",
       " array([1. , 1.6, 2.2, 2.8, 3.4, 4. , 4.6, 5.2, 5.8, 6.4, 7. ]),\n",
       " <BarContainer object of 10 artists>)"
      ]
     },
     "execution_count": 9,
     "metadata": {},
     "output_type": "execute_result"
    },
    {
     "data": {
      "image/png": "[encoded data removed]",
      "text/plain": [
       "<Figure size 640x480 with 1 Axes>"
      ]
     },
     "metadata": {},
     "output_type": "display_data"
    }
   ],
   "source": [
    "plt.hist(trolley.response)"
   ]
  },
  {
   "cell_type": "code",
   "execution_count": 34,
   "id": "a9399c08",
   "metadata": {},
   "outputs": [],
   "source": [
    "cumulative_proportion = np.cumsum((trolley.response.value_counts()/len(trolley)).sort_index())"
   ]
  },
  {
   "cell_type": "code",
   "execution_count": 46,
   "id": "42fd855f",
   "metadata": {},
   "outputs": [
    {
     "data": {
      "text/plain": [
       "[<matplotlib.lines.Line2D at 0x12e1a5dd0>]"
      ]
     },
     "execution_count": 46,
     "metadata": {},
     "output_type": "execute_result"
    },
    {
     "data": {
      "image/png": "[encoded data removed]",
      "text/plain": [
       "<Figure size 640x480 with 1 Axes>"
      ]
     },
     "metadata": {},
     "output_type": "display_data"
    }
   ],
   "source": [
    "plt.plot(cumulative_proportion.index, cumulative_proportion, '-o')"
   ]
  },
  {
   "cell_type": "code",
   "execution_count": 39,
   "id": "e0fa5a91",
   "metadata": {},
   "outputs": [],
   "source": [
    "cumulative_odds = cumulative_proportion / (1- cumulative_proportion)"
   ]
  },
  {
   "cell_type": "code",
   "execution_count": 40,
   "id": "ea7f747a",
   "metadata": {},
   "outputs": [
    {
     "data": {
      "text/plain": [
       "1    1.471811e-01\n",
       "2    2.817865e-01\n",
       "3    4.874176e-01\n",
       "4    1.281185e+00\n",
       "5    2.434798e+00\n",
       "6    5.867220e+00\n",
       "7   -4.503600e+15\n",
       "Name: response, dtype: float64"
      ]
     },
     "execution_count": 40,
     "metadata": {},
     "output_type": "execute_result"
    }
   ],
   "source": [
    "cumulative_odds"
   ]
  },
  {
   "cell_type": "code",
   "execution_count": 42,
   "id": "53a5f569",
   "metadata": {},
   "outputs": [
    {
     "name": "stderr",
     "output_type": "stream",
     "text": [
      "/Users/ciguaran/personal/statistical_rethinking/venv/lib/python3.7/site-packages/pandas/core/arraylike.py:364: RuntimeWarning: invalid value encountered in log\n",
      "  result = getattr(ufunc, method)(*inputs, **kwargs)\n"
     ]
    }
   ],
   "source": [
    "log_cumulative_odds = np.log(cumulative_odds)"
   ]
  },
  {
   "cell_type": "code",
   "execution_count": 45,
   "id": "8ce52f76",
   "metadata": {},
   "outputs": [
    {
     "data": {
      "text/plain": [
       "[<matplotlib.lines.Line2D at 0x12def6690>]"
      ]
     },
     "execution_count": 45,
     "metadata": {},
     "output_type": "execute_result"
    },
    {
     "data": {
      "image/png": "[encoded data removed]",
      "text/plain": [
       "<Figure size 640x480 with 1 Axes>"
      ]
     },
     "metadata": {},
     "output_type": "display_data"
    }
   ],
   "source": [
    "plt.plot(log_cumulative_odds.index, log_cumulative_odds, '-o')"
   ]
  },
  {
   "cell_type": "code",
   "execution_count": 52,
   "id": "17fe579c",
   "metadata": {},
   "outputs": [],
   "source": [
    "with pm.Model() as m1:\n",
    "    k = pm.Normal('k', 0.0, 1.5, shape=6, initval=np.arange(6) - 2.5)\n",
    "    r = pm.OrderedLogistic('response', 0.0, k, observed = trolley.response -1 )"
   ]
  },
  {
   "cell_type": "code",
   "execution_count": 53,
   "id": "c769dad0",
   "metadata": {},
   "outputs": [
    {
     "name": "stderr",
     "output_type": "stream",
     "text": [
      "Auto-assigning NUTS sampler...\n",
      "Initializing NUTS using jitter+adapt_diag...\n",
      "Multiprocess sampling (4 chains in 4 jobs)\n",
      "NUTS: [k]\n"
     ]
    },
    {
     "data": {
      "text/html": [
       "\n",
       "<style>\n",
       "    /* Turns off some styling */\n",
       "    progress {\n",
       "        /* gets rid of default border in Firefox and Opera. */\n",
       "        border: none;\n",
       "        /* Needs to be in here for Safari polyfill so background images work as expected. */\n",
       "        background-size: auto;\n",
       "    }\n",
       "    progress:not([value]), progress:not([value])::-webkit-progress-bar {\n",
       "        background: repeating-linear-gradient(45deg, #7e7e7e, #7e7e7e 10px, #5c5c5c 10px, #5c5c5c 20px);\n",
       "    }\n",
       "    .progress-bar-interrupted, .progress-bar-interrupted::-webkit-progress-bar {\n",
       "        background: #F44336;\n",
       "    }\n",
       "</style>\n"
      ],
      "text/plain": [
       "<IPython.core.display.HTML object>"
      ]
     },
     "metadata": {},
     "output_type": "display_data"
    },
    {
     "data": {
      "text/html": [
       "\n",
       "    <div>\n",
       "      <progress value='8000' class='' max='8000' style='width:300px; height:20px; vertical-align: middle;'></progress>\n",
       "      100.00% [8000/8000 00:15&lt;00:00 Sampling 4 chains, 0 divergences]\n",
       "    </div>\n",
       "    "
      ],
      "text/plain": [
       "<IPython.core.display.HTML object>"
      ]
     },
     "metadata": {},
     "output_type": "display_data"
    },
    {
     "name": "stderr",
     "output_type": "stream",
     "text": [
      "Sampling 4 chains for 1_000 tune and 1_000 draw iterations (4_000 + 4_000 draws total) took 36 seconds.\n"
     ]
    }
   ],
   "source": [
    "with m1:\n",
    "    trace_m1 = pm.sample()"
   ]
  },
  {
   "cell_type": "code",
   "execution_count": 54,
   "id": "f65bc7d4",
   "metadata": {},
   "outputs": [
    {
     "data": {
      "text/html": [
       "<div>\n",
       "<style scoped>\n",
       "    .dataframe tbody tr th:only-of-type {\n",
       "        vertical-align: middle;\n",
       "    }\n",
       "\n",
       "    .dataframe tbody tr th {\n",
       "        vertical-align: top;\n",
       "    }\n",
       "\n",
       "    .dataframe thead th {\n",
       "        text-align: right;\n",
       "    }\n",
       "</style>\n",
       "<table border=\"1\" class=\"dataframe\">\n",
       "  <thead>\n",
       "    <tr style=\"text-align: right;\">\n",
       "      <th></th>\n",
       "      <th>mean</th>\n",
       "      <th>sd</th>\n",
       "      <th>hdi_3%</th>\n",
       "      <th>hdi_97%</th>\n",
       "      <th>mcse_mean</th>\n",
       "      <th>mcse_sd</th>\n",
       "      <th>ess_bulk</th>\n",
       "      <th>ess_tail</th>\n",
       "      <th>r_hat</th>\n",
       "    </tr>\n",
       "  </thead>\n",
       "  <tbody>\n",
       "    <tr>\n",
       "      <th>k[0]</th>\n",
       "      <td>-1.915</td>\n",
       "      <td>0.030</td>\n",
       "      <td>-1.976</td>\n",
       "      <td>-1.861</td>\n",
       "      <td>0.001</td>\n",
       "      <td>0.001</td>\n",
       "      <td>1664.0</td>\n",
       "      <td>2340.0</td>\n",
       "      <td>1.0</td>\n",
       "    </tr>\n",
       "    <tr>\n",
       "      <th>k[1]</th>\n",
       "      <td>-1.265</td>\n",
       "      <td>0.025</td>\n",
       "      <td>-1.307</td>\n",
       "      <td>-1.216</td>\n",
       "      <td>0.001</td>\n",
       "      <td>0.000</td>\n",
       "      <td>1458.0</td>\n",
       "      <td>1978.0</td>\n",
       "      <td>1.0</td>\n",
       "    </tr>\n",
       "    <tr>\n",
       "      <th>k[2]</th>\n",
       "      <td>-0.717</td>\n",
       "      <td>0.022</td>\n",
       "      <td>-0.756</td>\n",
       "      <td>-0.677</td>\n",
       "      <td>0.001</td>\n",
       "      <td>0.000</td>\n",
       "      <td>1571.0</td>\n",
       "      <td>2310.0</td>\n",
       "      <td>1.0</td>\n",
       "    </tr>\n",
       "    <tr>\n",
       "      <th>k[3]</th>\n",
       "      <td>0.249</td>\n",
       "      <td>0.020</td>\n",
       "      <td>0.211</td>\n",
       "      <td>0.287</td>\n",
       "      <td>0.000</td>\n",
       "      <td>0.000</td>\n",
       "      <td>1677.0</td>\n",
       "      <td>2261.0</td>\n",
       "      <td>1.0</td>\n",
       "    </tr>\n",
       "    <tr>\n",
       "      <th>k[4]</th>\n",
       "      <td>0.891</td>\n",
       "      <td>0.022</td>\n",
       "      <td>0.851</td>\n",
       "      <td>0.934</td>\n",
       "      <td>0.001</td>\n",
       "      <td>0.000</td>\n",
       "      <td>1773.0</td>\n",
       "      <td>2286.0</td>\n",
       "      <td>1.0</td>\n",
       "    </tr>\n",
       "    <tr>\n",
       "      <th>k[5]</th>\n",
       "      <td>1.771</td>\n",
       "      <td>0.029</td>\n",
       "      <td>1.718</td>\n",
       "      <td>1.825</td>\n",
       "      <td>0.001</td>\n",
       "      <td>0.000</td>\n",
       "      <td>2157.0</td>\n",
       "      <td>2705.0</td>\n",
       "      <td>1.0</td>\n",
       "    </tr>\n",
       "    <tr>\n",
       "      <th>response_probs[0]</th>\n",
       "      <td>0.129</td>\n",
       "      <td>0.003</td>\n",
       "      <td>0.122</td>\n",
       "      <td>0.134</td>\n",
       "      <td>0.000</td>\n",
       "      <td>0.000</td>\n",
       "      <td>1664.0</td>\n",
       "      <td>2340.0</td>\n",
       "      <td>1.0</td>\n",
       "    </tr>\n",
       "    <tr>\n",
       "      <th>response_probs[1]</th>\n",
       "      <td>0.092</td>\n",
       "      <td>0.003</td>\n",
       "      <td>0.086</td>\n",
       "      <td>0.097</td>\n",
       "      <td>0.000</td>\n",
       "      <td>0.000</td>\n",
       "      <td>3675.0</td>\n",
       "      <td>3410.0</td>\n",
       "      <td>1.0</td>\n",
       "    </tr>\n",
       "    <tr>\n",
       "      <th>response_probs[2]</th>\n",
       "      <td>0.108</td>\n",
       "      <td>0.003</td>\n",
       "      <td>0.102</td>\n",
       "      <td>0.114</td>\n",
       "      <td>0.000</td>\n",
       "      <td>0.000</td>\n",
       "      <td>4468.0</td>\n",
       "      <td>3555.0</td>\n",
       "      <td>1.0</td>\n",
       "    </tr>\n",
       "    <tr>\n",
       "      <th>response_probs[3]</th>\n",
       "      <td>0.234</td>\n",
       "      <td>0.004</td>\n",
       "      <td>0.226</td>\n",
       "      <td>0.242</td>\n",
       "      <td>0.000</td>\n",
       "      <td>0.000</td>\n",
       "      <td>3606.0</td>\n",
       "      <td>3067.0</td>\n",
       "      <td>1.0</td>\n",
       "    </tr>\n",
       "    <tr>\n",
       "      <th>response_probs[4]</th>\n",
       "      <td>0.147</td>\n",
       "      <td>0.004</td>\n",
       "      <td>0.141</td>\n",
       "      <td>0.154</td>\n",
       "      <td>0.000</td>\n",
       "      <td>0.000</td>\n",
       "      <td>4669.0</td>\n",
       "      <td>3497.0</td>\n",
       "      <td>1.0</td>\n",
       "    </tr>\n",
       "    <tr>\n",
       "      <th>response_probs[5]</th>\n",
       "      <td>0.145</td>\n",
       "      <td>0.004</td>\n",
       "      <td>0.139</td>\n",
       "      <td>0.152</td>\n",
       "      <td>0.000</td>\n",
       "      <td>0.000</td>\n",
       "      <td>3533.0</td>\n",
       "      <td>3019.0</td>\n",
       "      <td>1.0</td>\n",
       "    </tr>\n",
       "    <tr>\n",
       "      <th>response_probs[6]</th>\n",
       "      <td>0.145</td>\n",
       "      <td>0.004</td>\n",
       "      <td>0.139</td>\n",
       "      <td>0.152</td>\n",
       "      <td>0.000</td>\n",
       "      <td>0.000</td>\n",
       "      <td>2157.0</td>\n",
       "      <td>2705.0</td>\n",
       "      <td>1.0</td>\n",
       "    </tr>\n",
       "  </tbody>\n",
       "</table>\n",
       "</div>"
      ],
      "text/plain": [
       "                    mean     sd  hdi_3%  hdi_97%  mcse_mean  mcse_sd  \\\n",
       "k[0]              -1.915  0.030  -1.976   -1.861      0.001    0.001   \n",
       "k[1]              -1.265  0.025  -1.307   -1.216      0.001    0.000   \n",
       "k[2]              -0.717  0.022  -0.756   -0.677      0.001    0.000   \n",
       "k[3]               0.249  0.020   0.211    0.287      0.000    0.000   \n",
       "k[4]               0.891  0.022   0.851    0.934      0.001    0.000   \n",
       "k[5]               1.771  0.029   1.718    1.825      0.001    0.000   \n",
       "response_probs[0]  0.129  0.003   0.122    0.134      0.000    0.000   \n",
       "response_probs[1]  0.092  0.003   0.086    0.097      0.000    0.000   \n",
       "response_probs[2]  0.108  0.003   0.102    0.114      0.000    0.000   \n",
       "response_probs[3]  0.234  0.004   0.226    0.242      0.000    0.000   \n",
       "response_probs[4]  0.147  0.004   0.141    0.154      0.000    0.000   \n",
       "response_probs[5]  0.145  0.004   0.139    0.152      0.000    0.000   \n",
       "response_probs[6]  0.145  0.004   0.139    0.152      0.000    0.000   \n",
       "\n",
       "                   ess_bulk  ess_tail  r_hat  \n",
       "k[0]                 1664.0    2340.0    1.0  \n",
       "k[1]                 1458.0    1978.0    1.0  \n",
       "k[2]                 1571.0    2310.0    1.0  \n",
       "k[3]                 1677.0    2261.0    1.0  \n",
       "k[4]                 1773.0    2286.0    1.0  \n",
       "k[5]                 2157.0    2705.0    1.0  \n",
       "response_probs[0]    1664.0    2340.0    1.0  \n",
       "response_probs[1]    3675.0    3410.0    1.0  \n",
       "response_probs[2]    4468.0    3555.0    1.0  \n",
       "response_probs[3]    3606.0    3067.0    1.0  \n",
       "response_probs[4]    4669.0    3497.0    1.0  \n",
       "response_probs[5]    3533.0    3019.0    1.0  \n",
       "response_probs[6]    2157.0    2705.0    1.0  "
      ]
     },
     "execution_count": 54,
     "metadata": {},
     "output_type": "execute_result"
    }
   ],
   "source": [
    "az.summary(trace_m1)"
   ]
  },
  {
   "cell_type": "code",
   "execution_count": null,
   "id": "7f55871e",
   "metadata": {},
   "outputs": [],
   "source": []
  }
 ],
 "metadata": {
  "kernelspec": {
   "display_name": "Python 3 (ipykernel)",
   "language": "python",
   "name": "python3"
  },
  "language_info": {
   "codemirror_mode": {
    "name": "ipython",
    "version": 3
   },
   "file_extension": ".py",
   "mimetype": "text/x-python",
   "name": "python",
   "nbconvert_exporter": "python",
   "pygments_lexer": "ipython3",
   "version": "3.7.10"
  }
 },
 "nbformat": 4,
 "nbformat_minor": 5
}
