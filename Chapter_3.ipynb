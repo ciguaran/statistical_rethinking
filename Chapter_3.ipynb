{
 "cells": [
  {
   "cell_type": "code",
   "execution_count": 3,
   "id": "7845ca6d-6c8b-4e77-b703-b71b84555779",
   "metadata": {},
   "outputs": [],
   "source": [
    "import scipy.stats as stats\n",
    "import numpy as np\n",
    "import matplotlib.pyplot as plt\n",
    "from plotnine import ggplot, aes, facet_grid, labs, geom_point, theme_dark, geom_line, theme, geom_histogram, geom_density\n",
    "import pandas as pd"
   ]
  },
  {
   "cell_type": "code",
   "execution_count": 4,
   "id": "a90eb942-adb7-48c1-9432-10b04582e105",
   "metadata": {},
   "outputs": [],
   "source": [
    "def posterior_grid_approx(points=5, success=6, tosses=9):\n",
    "    \"\"\"\n",
    "    success ~ Binomial(n,p)\n",
    "    p ~ Uniform(0,1)\n",
    "    \"\"\"\n",
    "    grid = np.linspace(0, 1, points)\n",
    "    prior = 1\n",
    "    likelihood = stats.binom.pmf(success, tosses, grid)\n",
    "    posterior = likelihood*prior / sum(likelihood) \n",
    "    return pd.DataFrame({'param_value':grid, 'p':posterior})"
   ]
  },
  {
   "cell_type": "code",
   "execution_count": 5,
   "id": "76181b97-1abf-4b17-b594-b79b6ed82480",
   "metadata": {},
   "outputs": [],
   "source": [
    "posterior = posterior_grid_approx(points=50, success=6, tosses=9)"
   ]
  },
  {
   "cell_type": "code",
   "execution_count": 6,
   "id": "9dd83c80-f10d-49a2-86a5-bfb392e98c5a",
   "metadata": {},
   "outputs": [],
   "source": [
    "samples = np.random.choice(posterior.param_value, p=posterior.p, size=int(1e4), replace=True)"
   ]
  },
  {
   "cell_type": "code",
   "execution_count": 7,
   "id": "059795c4-9848-4016-af3d-78704b9da4e8",
   "metadata": {},
   "outputs": [
    {
     "data": {
      "text/plain": [
       "0.1718"
      ]
     },
     "execution_count": 7,
     "metadata": {},
     "output_type": "execute_result"
    }
   ],
   "source": [
    "sum(samples < 0.5)/len(samples)"
   ]
  },
  {
   "cell_type": "code",
   "execution_count": 8,
   "id": "9638ecfa-22d2-4be2-89a9-f29d04b1fa7e",
   "metadata": {},
   "outputs": [
    {
     "data": {
      "text/plain": [
       "0.5936"
      ]
     },
     "execution_count": 8,
     "metadata": {},
     "output_type": "execute_result"
    }
   ],
   "source": [
    "sum((samples > 0.5) & (samples < 0.75))/len(samples)"
   ]
  },
  {
   "cell_type": "markdown",
   "id": "38644e54-e1c2-4f55-b4aa-fe11f193d335",
   "metadata": {},
   "source": [
    "Compatibility interval: two parameters whose interval contains certain amount of probability mass"
   ]
  },
  {
   "cell_type": "code",
   "execution_count": 9,
   "id": "a8bd7360-13ca-46fa-9b4c-8b0e8b9f388e",
   "metadata": {},
   "outputs": [
    {
     "data": {
      "text/plain": [
       "0.7551020408163265"
      ]
     },
     "execution_count": 9,
     "metadata": {},
     "output_type": "execute_result"
    }
   ],
   "source": [
    "np.quantile(samples, 0.8)"
   ]
  },
  {
   "cell_type": "markdown",
   "id": "b2ee22de-ffe8-4b9f-9339-61484f8581e3",
   "metadata": {},
   "source": [
    "Middle 80% interval"
   ]
  },
  {
   "cell_type": "code",
   "execution_count": 10,
   "id": "5a865bfa-f67b-42fb-a8bf-bcfe3fc144bf",
   "metadata": {},
   "outputs": [
    {
     "data": {
      "text/plain": [
       "array([0.44897959, 0.81632653])"
      ]
     },
     "execution_count": 10,
     "metadata": {},
     "output_type": "execute_result"
    }
   ],
   "source": [
    "np.quantile(samples, (0.1, 0.9))"
   ]
  },
  {
   "cell_type": "markdown",
   "id": "d4c6efd8-1fd5-4ee1-8ae8-679966e1cfd0",
   "metadata": {},
   "source": [
    "Percentile intervals: assign equal probability mass to each tail"
   ]
  },
  {
   "cell_type": "markdown",
   "id": "a2945c5c-c848-494a-8ada-517d9caf62a6",
   "metadata": {},
   "source": [
    "Highest posterior density intervals"
   ]
  },
  {
   "cell_type": "markdown",
   "id": "863f3870-312c-4d66-86cb-f574a0407451",
   "metadata": {},
   "source": [
    "Example in which HPDI and Percentile Intervals differ in terms of supporting parameters inference"
   ]
  },
  {
   "cell_type": "code",
   "execution_count": 11,
   "id": "1f02ccb7-9ded-4336-9deb-058095df7afe",
   "metadata": {},
   "outputs": [
    {
     "data": {
      "image/png": "[encoded data removed]",
      "text/plain": [
       "<Figure size 640x480 with 1 Axes>"
      ]
     },
     "metadata": {},
     "output_type": "display_data"
    },
    {
     "data": {
      "text/plain": [
       "<ggplot: (274897683)>"
      ]
     },
     "execution_count": 11,
     "metadata": {},
     "output_type": "execute_result"
    }
   ],
   "source": [
    "posterior_right_tail = posterior_grid_approx(points=100, success=6, tosses=6)\n",
    "(ggplot(posterior_right_tail, aes(x='param_value', y='p'))\n",
    "+ geom_line()\n",
    "+ geom_point())"
   ]
  },
  {
   "cell_type": "code",
   "execution_count": 12,
   "id": "5f2e3848-6b9e-4ecd-a39e-83dfb37e9686",
   "metadata": {},
   "outputs": [],
   "source": [
    "samples = np.random.choice(posterior_right_tail.param_value, p=posterior_right_tail.p, size=int(1e4), replace=True)\n"
   ]
  },
  {
   "cell_type": "code",
   "execution_count": 13,
   "id": "ea569ef3-f4ea-444a-bfce-e95f15450da0",
   "metadata": {},
   "outputs": [
    {
     "data": {
      "text/plain": [
       "0.8791010101010103"
      ]
     },
     "execution_count": 13,
     "metadata": {},
     "output_type": "execute_result"
    }
   ],
   "source": [
    "np.mean(samples)"
   ]
  },
  {
   "cell_type": "code",
   "execution_count": 14,
   "id": "d637d71b-a022-4241-9ee0-b2e304817ced",
   "metadata": {},
   "outputs": [
    {
     "data": {
      "text/plain": [
       "0.9090909090909092"
      ]
     },
     "execution_count": 14,
     "metadata": {},
     "output_type": "execute_result"
    }
   ],
   "source": [
    "np.median(samples)"
   ]
  },
  {
   "cell_type": "code",
   "execution_count": 15,
   "id": "ff9c9ed9-2779-432e-a05d-c682024b67ec",
   "metadata": {},
   "outputs": [
    {
     "data": {
      "text/plain": [
       "array([1.])"
      ]
     },
     "execution_count": 15,
     "metadata": {},
     "output_type": "execute_result"
    }
   ],
   "source": [
    "stats.mode(samples)[0]"
   ]
  },
  {
   "cell_type": "markdown",
   "id": "b8a28e15-79d2-48da-9201-4835c4e5b8bd",
   "metadata": {},
   "source": [
    "# Simulation"
   ]
  },
  {
   "cell_type": "code",
   "execution_count": 16,
   "id": "96522ec2-0788-4a99-8b68-baea6fc9f508",
   "metadata": {},
   "outputs": [],
   "source": [
    "true_proportion_of_water = 0.7"
   ]
  },
  {
   "cell_type": "code",
   "execution_count": 26,
   "id": "0c48317e-a75a-4f79-aa87-4d80d0c0410c",
   "metadata": {},
   "outputs": [
    {
     "data": {
      "text/plain": [
       "array([2, 1, 1, 1, 2, 2, 0, 2, 1, 0])"
      ]
     },
     "execution_count": 26,
     "metadata": {},
     "output_type": "execute_result"
    }
   ],
   "source": [
    "stats.binom(p=0.7, n=2).rvs(10)"
   ]
  },
  {
   "cell_type": "code",
   "execution_count": 28,
   "id": "83fee433-7636-4e5c-a973-ba74e4869ef8",
   "metadata": {},
   "outputs": [
    {
     "data": {
      "text/plain": [
       "array([0.09, 0.42, 0.49])"
      ]
     },
     "execution_count": 28,
     "metadata": {},
     "output_type": "execute_result"
    }
   ],
   "source": [
    "stats.binom(p=0.7, n=2).pmf([0,1,2])"
   ]
  },
  {
   "cell_type": "code",
   "execution_count": 29,
   "id": "33b7bf84-17d8-42c3-b5a4-b5ade1be6e9d",
   "metadata": {},
   "outputs": [],
   "source": [
    "dummy_w = stats.binom(p=0.7, n=2).rvs(100000)"
   ]
  },
  {
   "cell_type": "code",
   "execution_count": 35,
   "id": "4f9d9f85-96f0-4490-be9b-6faaf54e1f6a",
   "metadata": {},
   "outputs": [
    {
     "data": {
      "text/plain": [
       "[0.09099, 0.42093, 0.48808]"
      ]
     },
     "execution_count": 35,
     "metadata": {},
     "output_type": "execute_result"
    }
   ],
   "source": [
    "[sum(dummy_w==i)/len(dummy_w) for i in (0,1,2)]"
   ]
  },
  {
   "cell_type": "markdown",
   "id": "1ecd109e-2772-4382-901e-ffc5f4a582f4",
   "metadata": {},
   "source": [
    "# End of chapter problems"
   ]
  },
  {
   "cell_type": "markdown",
   "id": "474619dd-ce2f-4356-a9e9-66464468fba4",
   "metadata": {},
   "source": [
    "They are in Notebook 2"
   ]
  },
  {
   "cell_type": "code",
   "execution_count": null,
   "id": "d549b742-8e11-4236-ab7c-d6e5c0d77130",
   "metadata": {},
   "outputs": [],
   "source": []
  }
 ],
 "metadata": {
  "kernelspec": {
   "display_name": "Python 3 (ipykernel)",
   "language": "python",
   "name": "python3"
  },
  "language_info": {
   "codemirror_mode": {
    "name": "ipython",
    "version": 3
   },
   "file_extension": ".py",
   "mimetype": "text/x-python",
   "name": "python",
   "nbconvert_exporter": "python",
   "pygments_lexer": "ipython3",
   "version": "3.8.5"
  }
 },
 "nbformat": 4,
 "nbformat_minor": 5
}
