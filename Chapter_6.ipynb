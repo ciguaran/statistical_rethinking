{
 "cells": [
  {
   "cell_type": "markdown",
   "id": "14c5cae5-ac7e-47f7-aa5b-ff92e3446c15",
   "metadata": {},
   "source": [
    "# Chapter 6"
   ]
  },
  {
   "cell_type": "code",
   "execution_count": 2,
   "id": "c1c2d631-3c49-4b7d-9209-a68bf6ff022c",
   "metadata": {},
   "outputs": [],
   "source": [
    "import numpy as np\n",
    "import pymc3 as pm\n",
    "import matplotlib.pyplot as plt\n",
    "import arviz as az\n",
    "import pandas as pd"
   ]
  },
  {
   "cell_type": "markdown",
   "id": "dc3d8c63-b73a-42c2-93f3-429e2bb2889f",
   "metadata": {},
   "source": [
    "## Selection/distortion effect"
   ]
  },
  {
   "cell_type": "code",
   "execution_count": 3,
   "id": "bf061b91-9d64-4ce9-b403-6413df6f1c83",
   "metadata": {},
   "outputs": [],
   "source": [
    "np.random.seed(2)\n",
    "n = 200\n",
    "p = 0.1\n",
    "newsworthiness = np.random.normal(size=n)\n",
    "trusthworthiness = np.random.normal(size=n)\n",
    "score = newsworthiness + trusthworthiness"
   ]
  },
  {
   "cell_type": "code",
   "execution_count": 4,
   "id": "00a1e30a-8a65-4d0f-8e9a-f8ef0eeafee3",
   "metadata": {},
   "outputs": [],
   "source": [
    "threshold = np.quantile(score,1-p)"
   ]
  },
  {
   "cell_type": "code",
   "execution_count": 5,
   "id": "0c3af28b-292d-4bae-a758-0663026ae1cc",
   "metadata": {},
   "outputs": [],
   "source": [
    "selected = score >= threshold"
   ]
  },
  {
   "cell_type": "code",
   "execution_count": 6,
   "id": "0fa56566-0ea0-48fa-a233-8dd27adf31dd",
   "metadata": {},
   "outputs": [
    {
     "data": {
      "text/plain": [
       "array([[ 1.        , -0.73834648],\n",
       "       [-0.73834648,  1.        ]])"
      ]
     },
     "execution_count": 6,
     "metadata": {},
     "output_type": "execute_result"
    }
   ],
   "source": [
    "np.corrcoef(newsworthiness[selected], trusthworthiness[selected])"
   ]
  },
  {
   "cell_type": "code",
   "execution_count": 7,
   "id": "a82fa3cf-110a-455a-993a-a50446202d54",
   "metadata": {},
   "outputs": [
    {
     "data": {
      "text/plain": [
       "Text(0, 0.5, 'trustworthiness')"
      ]
     },
     "execution_count": 7,
     "metadata": {},
     "output_type": "execute_result"
    },
    {
     "data": {
      "image/png": "[encoded data removed]",
      "text/plain": [
       "<Figure size 432x288 with 1 Axes>"
      ]
     },
     "metadata": {
      "needs_background": "light"
     },
     "output_type": "display_data"
    }
   ],
   "source": [
    "# Figure 6.1\n",
    "plt.scatter(newsworthiness[~selected], trusthworthiness[~selected], lw=1, edgecolor=\"k\", color=(0, 0, 0, 0))\n",
    "plt.scatter(newsworthiness[selected], trusthworthiness[selected], color=\"C0\")\n",
    "plt.text(0.8, 2.5, \"selected\", color=\"C0\")\n",
    "\n",
    "plt.xlabel(\"newsworthiness\")\n",
    "plt.ylabel(\"trustworthiness\")"
   ]
  },
  {
   "cell_type": "markdown",
   "id": "da1b3140-531c-4759-bb8b-192ac9a315b8",
   "metadata": {},
   "source": [
    "# Multicolinearity"
   ]
  },
  {
   "cell_type": "code",
   "execution_count": 8,
   "id": "3988f7b8-814e-44e7-b5f9-fb1a3c42064f",
   "metadata": {},
   "outputs": [],
   "source": [
    "n = 100\n",
    "height = np.random.normal(10,2, size=n)\n",
    "leg_proportion = np.random.uniform(0.4, 0.5, size=n)\n",
    "left_leg = leg_proportion * height + np.random.normal(0, 0.02, size=n)\n",
    "right_leg = leg_proportion * height + np.random.normal(0, 0.02, size=n)\n",
    "heights = pd.DataFrame({'height': height,\n",
    "                        'left_leg':left_leg,\n",
    "                        'right_leg':right_leg})\n"
   ]
  },
  {
   "cell_type": "code",
   "execution_count": 9,
   "id": "fda3cf20-4e52-49dd-94a2-a1532694c42a",
   "metadata": {},
   "outputs": [
    {
     "name": "stderr",
     "output_type": "stream",
     "text": [
      "Auto-assigning NUTS sampler...\n",
      "Initializing NUTS using jitter+adapt_diag...\n",
      "Multiprocess sampling (4 chains in 4 jobs)\n",
      "NUTS: [sigma, beta_right, beta_left, alpha]\n"
     ]
    },
    {
     "data": {
      "text/html": [
       "\n",
       "    <div>\n",
       "        <style>\n",
       "            /* Turns off some styling */\n",
       "            progress {\n",
       "                /* gets rid of default border in Firefox and Opera. */\n",
       "                border: none;\n",
       "                /* Needs to be in here for Safari polyfill so background images work as expected. */\n",
       "                background-size: auto;\n",
       "            }\n",
       "            .progress-bar-interrupted, .progress-bar-interrupted::-webkit-progress-bar {\n",
       "                background: #F44336;\n",
       "            }\n",
       "        </style>\n",
       "      <progress value='8000' class='' max='8000' style='width:300px; height:20px; vertical-align: middle;'></progress>\n",
       "      100.00% [8000/8000 02:20<00:00 Sampling 4 chains, 31 divergences]\n",
       "    </div>\n",
       "    "
      ],
      "text/plain": [
       "<IPython.core.display.HTML object>"
      ]
     },
     "metadata": {},
     "output_type": "display_data"
    },
    {
     "name": "stderr",
     "output_type": "stream",
     "text": [
      "Sampling 4 chains for 1_000 tune and 1_000 draw iterations (4_000 + 4_000 draws total) took 155 seconds.\n",
      "There were 12 divergences after tuning. Increase `target_accept` or reparameterize.\n",
      "There were 19 divergences after tuning. Increase `target_accept` or reparameterize.\n"
     ]
    }
   ],
   "source": [
    "with pm.Model() as m1:\n",
    "    alpha = pm.Normal('alpha', 10, 100)\n",
    "    beta_left = pm.Normal('beta_left', 2, 10)\n",
    "    beta_right = pm.Normal('beta_right', 2, 10)\n",
    "    sigma = pm.Exponential('sigma', 1)\n",
    "    \n",
    "    mu = pm.Deterministic('mu', alpha + beta_left * heights['left_leg']+ beta_right * heights['right_leg'])\n",
    "    sdr = pm.Normal('height', mu, sd=sigma, observed=heights['height'])\n",
    "    m1_trace = pm.sample(return_inferencedata=True)"
   ]
  },
  {
   "cell_type": "code",
   "execution_count": 10,
   "id": "4ebec61f-8973-4415-b5a2-09452672902c",
   "metadata": {},
   "outputs": [
    {
     "data": {
      "text/html": [
       "<div>\n",
       "<style scoped>\n",
       "    .dataframe tbody tr th:only-of-type {\n",
       "        vertical-align: middle;\n",
       "    }\n",
       "\n",
       "    .dataframe tbody tr th {\n",
       "        vertical-align: top;\n",
       "    }\n",
       "\n",
       "    .dataframe thead th {\n",
       "        text-align: right;\n",
       "    }\n",
       "</style>\n",
       "<table border=\"1\" class=\"dataframe\">\n",
       "  <thead>\n",
       "    <tr style=\"text-align: right;\">\n",
       "      <th></th>\n",
       "      <th>mean</th>\n",
       "      <th>sd</th>\n",
       "      <th>hdi_3%</th>\n",
       "      <th>hdi_97%</th>\n",
       "      <th>mcse_mean</th>\n",
       "      <th>mcse_sd</th>\n",
       "      <th>ess_bulk</th>\n",
       "      <th>ess_tail</th>\n",
       "      <th>r_hat</th>\n",
       "    </tr>\n",
       "  </thead>\n",
       "  <tbody>\n",
       "    <tr>\n",
       "      <th>alpha</th>\n",
       "      <td>0.954</td>\n",
       "      <td>0.291</td>\n",
       "      <td>0.407</td>\n",
       "      <td>1.487</td>\n",
       "      <td>0.006</td>\n",
       "      <td>0.004</td>\n",
       "      <td>2177.0</td>\n",
       "      <td>1996.0</td>\n",
       "      <td>1.0</td>\n",
       "    </tr>\n",
       "    <tr>\n",
       "      <th>sigma</th>\n",
       "      <td>0.597</td>\n",
       "      <td>0.042</td>\n",
       "      <td>0.518</td>\n",
       "      <td>0.673</td>\n",
       "      <td>0.001</td>\n",
       "      <td>0.001</td>\n",
       "      <td>1890.0</td>\n",
       "      <td>1775.0</td>\n",
       "      <td>1.0</td>\n",
       "    </tr>\n",
       "    <tr>\n",
       "      <th>beta_left</th>\n",
       "      <td>3.756</td>\n",
       "      <td>2.138</td>\n",
       "      <td>-0.143</td>\n",
       "      <td>7.874</td>\n",
       "      <td>0.053</td>\n",
       "      <td>0.038</td>\n",
       "      <td>1599.0</td>\n",
       "      <td>1795.0</td>\n",
       "      <td>1.0</td>\n",
       "    </tr>\n",
       "    <tr>\n",
       "      <th>beta_right</th>\n",
       "      <td>-1.741</td>\n",
       "      <td>2.145</td>\n",
       "      <td>-5.735</td>\n",
       "      <td>2.298</td>\n",
       "      <td>0.054</td>\n",
       "      <td>0.038</td>\n",
       "      <td>1593.0</td>\n",
       "      <td>1793.0</td>\n",
       "      <td>1.0</td>\n",
       "    </tr>\n",
       "  </tbody>\n",
       "</table>\n",
       "</div>"
      ],
      "text/plain": [
       "             mean     sd  hdi_3%  hdi_97%  mcse_mean  mcse_sd  ess_bulk  \\\n",
       "alpha       0.954  0.291   0.407    1.487      0.006    0.004    2177.0   \n",
       "sigma       0.597  0.042   0.518    0.673      0.001    0.001    1890.0   \n",
       "beta_left   3.756  2.138  -0.143    7.874      0.053    0.038    1599.0   \n",
       "beta_right -1.741  2.145  -5.735    2.298      0.054    0.038    1593.0   \n",
       "\n",
       "            ess_tail  r_hat  \n",
       "alpha         1996.0    1.0  \n",
       "sigma         1775.0    1.0  \n",
       "beta_left     1795.0    1.0  \n",
       "beta_right    1793.0    1.0  "
      ]
     },
     "execution_count": 10,
     "metadata": {},
     "output_type": "execute_result"
    }
   ],
   "source": [
    "az.summary(m1_trace, var_names=['alpha','sigma', 'beta_left', 'beta_right'])"
   ]
  },
  {
   "cell_type": "code",
   "execution_count": 11,
   "id": "e4e3adb9-bf91-4e20-9c88-6b5d5dc8b4cd",
   "metadata": {},
   "outputs": [
    {
     "data": {
      "image/png": "[encoded data removed]",
      "text/plain": [
       "<Figure size 432x532.8 with 1 Axes>"
      ]
     },
     "metadata": {
      "needs_background": "light"
     },
     "output_type": "display_data"
    }
   ],
   "source": [
    "az.plot_forest(\n",
    "    [\n",
    "        m1_trace\n",
    "    ],\n",
    "    var_names=['alpha','sigma', 'beta_left', 'beta_right'],\n",
    "    combined=True,\n",
    ");"
   ]
  },
  {
   "cell_type": "code",
   "execution_count": 12,
   "id": "6413f51f-cbf9-4447-8597-2f2760217fa7",
   "metadata": {},
   "outputs": [
    {
     "data": {
      "text/plain": [
       "Text(0.5, 1.0, 'Joint Posterior distribution of beta_left and beta_right')"
      ]
     },
     "execution_count": 12,
     "metadata": {},
     "output_type": "execute_result"
    },
    {
     "data": {
      "image/png": "[encoded data removed]",
      "text/plain": [
       "<Figure size 432x288 with 1 Axes>"
      ]
     },
     "metadata": {
      "needs_background": "light"
     },
     "output_type": "display_data"
    }
   ],
   "source": [
    "plt.scatter(m1_trace.posterior['beta_left'].values,m1_trace.posterior['beta_right'].values)\n",
    "plt.xlabel('beta_left')\n",
    "plt.ylabel('beta_right')\n",
    "plt.title('Joint Posterior distribution of beta_left and beta_right')"
   ]
  },
  {
   "cell_type": "code",
   "execution_count": 13,
   "id": "d4cab9f0-87a3-4a31-9f8e-adc48ae63d01",
   "metadata": {},
   "outputs": [
    {
     "data": {
      "text/plain": [
       "Text(0.5, 1.0, 'Sum of beta_left and beta_right')"
      ]
     },
     "execution_count": 13,
     "metadata": {},
     "output_type": "execute_result"
    },
    {
     "data": {
      "image/png": "[encoded data removed]",
      "text/plain": [
       "<Figure size 432x288 with 1 Axes>"
      ]
     },
     "metadata": {
      "needs_background": "light"
     },
     "output_type": "display_data"
    }
   ],
   "source": [
    "plt.hist(m1_trace.posterior['beta_left'].values+m1_trace.posterior['beta_right'].values)\n",
    "plt.xlabel('beta_left')\n",
    "plt.ylabel('beta_right')\n",
    "plt.title('Sum of beta_left and beta_right')"
   ]
  },
  {
   "cell_type": "markdown",
   "id": "95a3884b-8967-4983-9d12-215714db52a9",
   "metadata": {},
   "source": [
    "# Multicollinear milk"
   ]
  },
  {
   "cell_type": "code",
   "execution_count": 17,
   "id": "5b40d61f-8b6e-4c93-8474-320587e0f41f",
   "metadata": {},
   "outputs": [],
   "source": [
    "milk = pd.read_csv('./data/milk.csv', sep=';')"
   ]
  },
  {
   "cell_type": "code",
   "execution_count": 18,
   "id": "e84ab67c-0235-4d55-8372-0fc5161d98ee",
   "metadata": {},
   "outputs": [
    {
     "data": {
      "text/html": [
       "<div>\n",
       "<style scoped>\n",
       "    .dataframe tbody tr th:only-of-type {\n",
       "        vertical-align: middle;\n",
       "    }\n",
       "\n",
       "    .dataframe tbody tr th {\n",
       "        vertical-align: top;\n",
       "    }\n",
       "\n",
       "    .dataframe thead th {\n",
       "        text-align: right;\n",
       "    }\n",
       "</style>\n",
       "<table border=\"1\" class=\"dataframe\">\n",
       "  <thead>\n",
       "    <tr style=\"text-align: right;\">\n",
       "      <th></th>\n",
       "      <th>clade</th>\n",
       "      <th>species</th>\n",
       "      <th>kcal.per.g</th>\n",
       "      <th>perc.fat</th>\n",
       "      <th>perc.protein</th>\n",
       "      <th>perc.lactose</th>\n",
       "      <th>mass</th>\n",
       "      <th>neocortex.perc</th>\n",
       "    </tr>\n",
       "  </thead>\n",
       "  <tbody>\n",
       "    <tr>\n",
       "      <th>0</th>\n",
       "      <td>Strepsirrhine</td>\n",
       "      <td>Eulemur fulvus</td>\n",
       "      <td>0.49</td>\n",
       "      <td>16.60</td>\n",
       "      <td>15.42</td>\n",
       "      <td>67.98</td>\n",
       "      <td>1.95</td>\n",
       "      <td>55.16</td>\n",
       "    </tr>\n",
       "    <tr>\n",
       "      <th>1</th>\n",
       "      <td>Strepsirrhine</td>\n",
       "      <td>E macaco</td>\n",
       "      <td>0.51</td>\n",
       "      <td>19.27</td>\n",
       "      <td>16.91</td>\n",
       "      <td>63.82</td>\n",
       "      <td>2.09</td>\n",
       "      <td>NaN</td>\n",
       "    </tr>\n",
       "    <tr>\n",
       "      <th>2</th>\n",
       "      <td>Strepsirrhine</td>\n",
       "      <td>E mongoz</td>\n",
       "      <td>0.46</td>\n",
       "      <td>14.11</td>\n",
       "      <td>16.85</td>\n",
       "      <td>69.04</td>\n",
       "      <td>2.51</td>\n",
       "      <td>NaN</td>\n",
       "    </tr>\n",
       "    <tr>\n",
       "      <th>3</th>\n",
       "      <td>Strepsirrhine</td>\n",
       "      <td>E rubriventer</td>\n",
       "      <td>0.48</td>\n",
       "      <td>14.91</td>\n",
       "      <td>13.18</td>\n",
       "      <td>71.91</td>\n",
       "      <td>1.62</td>\n",
       "      <td>NaN</td>\n",
       "    </tr>\n",
       "    <tr>\n",
       "      <th>4</th>\n",
       "      <td>Strepsirrhine</td>\n",
       "      <td>Lemur catta</td>\n",
       "      <td>0.60</td>\n",
       "      <td>27.28</td>\n",
       "      <td>19.50</td>\n",
       "      <td>53.22</td>\n",
       "      <td>2.19</td>\n",
       "      <td>NaN</td>\n",
       "    </tr>\n",
       "  </tbody>\n",
       "</table>\n",
       "</div>"
      ],
      "text/plain": [
       "           clade         species  kcal.per.g  perc.fat  perc.protein  \\\n",
       "0  Strepsirrhine  Eulemur fulvus        0.49     16.60         15.42   \n",
       "1  Strepsirrhine        E macaco        0.51     19.27         16.91   \n",
       "2  Strepsirrhine        E mongoz        0.46     14.11         16.85   \n",
       "3  Strepsirrhine   E rubriventer        0.48     14.91         13.18   \n",
       "4  Strepsirrhine     Lemur catta        0.60     27.28         19.50   \n",
       "\n",
       "   perc.lactose  mass  neocortex.perc  \n",
       "0         67.98  1.95           55.16  \n",
       "1         63.82  2.09             NaN  \n",
       "2         69.04  2.51             NaN  \n",
       "3         71.91  1.62             NaN  \n",
       "4         53.22  2.19             NaN  "
      ]
     },
     "execution_count": 18,
     "metadata": {},
     "output_type": "execute_result"
    }
   ],
   "source": [
    "milk.head()"
   ]
  },
  {
   "cell_type": "code",
   "execution_count": 19,
   "id": "fe5f4b34-0d52-4c94-ade5-db0b967808d4",
   "metadata": {},
   "outputs": [],
   "source": [
    "def standarize(col):\n",
    "    return (col - np.mean(col))/np.std(col)"
   ]
  },
  {
   "cell_type": "code",
   "execution_count": 21,
   "id": "af8dcd7f-b9f0-4ff5-84f9-d59be1d7190a",
   "metadata": {},
   "outputs": [],
   "source": [
    "milk['standarized_kcal'] = standarize(milk[\"kcal.per.g\"])"
   ]
  },
  {
   "cell_type": "code",
   "execution_count": 23,
   "id": "827f33f5-637f-4135-8f2c-e9e73b247598",
   "metadata": {},
   "outputs": [],
   "source": [
    "milk['standarized_fat'] = standarize(milk[\"perc.fat\"])\n",
    "milk['standarized_lactose'] = standarize(milk[\"perc.lactose\"])"
   ]
  },
  {
   "cell_type": "code",
   "execution_count": 24,
   "id": "87fa453c-5e3f-43ad-ad38-81552de96f5a",
   "metadata": {},
   "outputs": [
    {
     "name": "stderr",
     "output_type": "stream",
     "text": [
      "Auto-assigning NUTS sampler...\n",
      "Initializing NUTS using jitter+adapt_diag...\n",
      "Multiprocess sampling (4 chains in 4 jobs)\n",
      "NUTS: [sigma, beta_fat, alpha]\n"
     ]
    },
    {
     "data": {
      "text/html": [
       "\n",
       "    <div>\n",
       "        <style>\n",
       "            /* Turns off some styling */\n",
       "            progress {\n",
       "                /* gets rid of default border in Firefox and Opera. */\n",
       "                border: none;\n",
       "                /* Needs to be in here for Safari polyfill so background images work as expected. */\n",
       "                background-size: auto;\n",
       "            }\n",
       "            .progress-bar-interrupted, .progress-bar-interrupted::-webkit-progress-bar {\n",
       "                background: #F44336;\n",
       "            }\n",
       "        </style>\n",
       "      <progress value='8000' class='' max='8000' style='width:300px; height:20px; vertical-align: middle;'></progress>\n",
       "      100.00% [8000/8000 00:04<00:00 Sampling 4 chains, 0 divergences]\n",
       "    </div>\n",
       "    "
      ],
      "text/plain": [
       "<IPython.core.display.HTML object>"
      ]
     },
     "metadata": {},
     "output_type": "display_data"
    },
    {
     "name": "stderr",
     "output_type": "stream",
     "text": [
      "Sampling 4 chains for 1_000 tune and 1_000 draw iterations (4_000 + 4_000 draws total) took 19 seconds.\n",
      "Auto-assigning NUTS sampler...\n",
      "Initializing NUTS using jitter+adapt_diag...\n",
      "Multiprocess sampling (4 chains in 4 jobs)\n",
      "NUTS: [sigma, beta_lactose, alpha]\n"
     ]
    },
    {
     "data": {
      "text/html": [
       "\n",
       "    <div>\n",
       "        <style>\n",
       "            /* Turns off some styling */\n",
       "            progress {\n",
       "                /* gets rid of default border in Firefox and Opera. */\n",
       "                border: none;\n",
       "                /* Needs to be in here for Safari polyfill so background images work as expected. */\n",
       "                background-size: auto;\n",
       "            }\n",
       "            .progress-bar-interrupted, .progress-bar-interrupted::-webkit-progress-bar {\n",
       "                background: #F44336;\n",
       "            }\n",
       "        </style>\n",
       "      <progress value='8000' class='' max='8000' style='width:300px; height:20px; vertical-align: middle;'></progress>\n",
       "      100.00% [8000/8000 00:04<00:00 Sampling 4 chains, 0 divergences]\n",
       "    </div>\n",
       "    "
      ],
      "text/plain": [
       "<IPython.core.display.HTML object>"
      ]
     },
     "metadata": {},
     "output_type": "display_data"
    },
    {
     "name": "stderr",
     "output_type": "stream",
     "text": [
      "Sampling 4 chains for 1_000 tune and 1_000 draw iterations (4_000 + 4_000 draws total) took 19 seconds.\n"
     ]
    }
   ],
   "source": [
    "with pm.Model() as m1:\n",
    "    alpha = pm.Normal('alpha', 0, 0.2)\n",
    "    beta = pm.Normal('beta_fat', 0, 0.5)\n",
    "    sigma = pm.Exponential('sigma', 1)\n",
    "    mu = pm.Deterministic('mu', alpha + beta * milk['standarized_fat'])\n",
    "    sdr = pm.Normal('standarized_kcal', mu, sd=sigma, observed=milk['standarized_kcal'])\n",
    "    m1_trace = pm.sample(return_inferencedata=True)\n",
    "    m1_prior_predictive = pm.sample_prior_predictive()\n",
    "    \n",
    "with pm.Model() as m2:\n",
    "    alpha = pm.Normal('alpha', 0, 0.2)\n",
    "    beta = pm.Normal('beta_lactose', 0, 0.5)\n",
    "    sigma = pm.Exponential('sigma', 1)\n",
    "    mu = pm.Deterministic('mu', alpha + beta * milk['standarized_lactose'])\n",
    "    sdr = pm.Normal('standarized_kcal', mu, sd=sigma, observed=milk['standarized_kcal'])\n",
    "    m2_trace = pm.sample(return_inferencedata=True)\n",
    "    m2_prior_predictive = pm.sample_prior_predictive()"
   ]
  },
  {
   "cell_type": "code",
   "execution_count": 31,
   "id": "4c3b60c6-d864-44a2-a98f-5b117bb9098a",
   "metadata": {},
   "outputs": [
    {
     "data": {
      "text/html": [
       "<div>\n",
       "<style scoped>\n",
       "    .dataframe tbody tr th:only-of-type {\n",
       "        vertical-align: middle;\n",
       "    }\n",
       "\n",
       "    .dataframe tbody tr th {\n",
       "        vertical-align: top;\n",
       "    }\n",
       "\n",
       "    .dataframe thead th {\n",
       "        text-align: right;\n",
       "    }\n",
       "</style>\n",
       "<table border=\"1\" class=\"dataframe\">\n",
       "  <thead>\n",
       "    <tr style=\"text-align: right;\">\n",
       "      <th></th>\n",
       "      <th>mean</th>\n",
       "      <th>sd</th>\n",
       "      <th>hdi_3%</th>\n",
       "      <th>hdi_97%</th>\n",
       "      <th>mcse_mean</th>\n",
       "      <th>mcse_sd</th>\n",
       "      <th>ess_bulk</th>\n",
       "      <th>ess_tail</th>\n",
       "      <th>r_hat</th>\n",
       "    </tr>\n",
       "  </thead>\n",
       "  <tbody>\n",
       "    <tr>\n",
       "      <th>beta_fat</th>\n",
       "      <td>0.856</td>\n",
       "      <td>0.091</td>\n",
       "      <td>0.680</td>\n",
       "      <td>1.019</td>\n",
       "      <td>0.001</td>\n",
       "      <td>0.001</td>\n",
       "      <td>4229.0</td>\n",
       "      <td>2370.0</td>\n",
       "      <td>1.0</td>\n",
       "    </tr>\n",
       "    <tr>\n",
       "      <th>alpha</th>\n",
       "      <td>0.001</td>\n",
       "      <td>0.085</td>\n",
       "      <td>-0.155</td>\n",
       "      <td>0.154</td>\n",
       "      <td>0.001</td>\n",
       "      <td>0.001</td>\n",
       "      <td>3875.0</td>\n",
       "      <td>2751.0</td>\n",
       "      <td>1.0</td>\n",
       "    </tr>\n",
       "  </tbody>\n",
       "</table>\n",
       "</div>"
      ],
      "text/plain": [
       "           mean     sd  hdi_3%  hdi_97%  mcse_mean  mcse_sd  ess_bulk  \\\n",
       "beta_fat  0.856  0.091   0.680    1.019      0.001    0.001    4229.0   \n",
       "alpha     0.001  0.085  -0.155    0.154      0.001    0.001    3875.0   \n",
       "\n",
       "          ess_tail  r_hat  \n",
       "beta_fat    2370.0    1.0  \n",
       "alpha       2751.0    1.0  "
      ]
     },
     "execution_count": 31,
     "metadata": {},
     "output_type": "execute_result"
    }
   ],
   "source": [
    "az.summary(m1_trace, var_names=['beta_fat', 'alpha'])"
   ]
  },
  {
   "cell_type": "code",
   "execution_count": 32,
   "id": "81a6106e-a266-41c1-831b-48615b0dc29e",
   "metadata": {},
   "outputs": [
    {
     "data": {
      "text/html": [
       "<div>\n",
       "<style scoped>\n",
       "    .dataframe tbody tr th:only-of-type {\n",
       "        vertical-align: middle;\n",
       "    }\n",
       "\n",
       "    .dataframe tbody tr th {\n",
       "        vertical-align: top;\n",
       "    }\n",
       "\n",
       "    .dataframe thead th {\n",
       "        text-align: right;\n",
       "    }\n",
       "</style>\n",
       "<table border=\"1\" class=\"dataframe\">\n",
       "  <thead>\n",
       "    <tr style=\"text-align: right;\">\n",
       "      <th></th>\n",
       "      <th>mean</th>\n",
       "      <th>sd</th>\n",
       "      <th>hdi_3%</th>\n",
       "      <th>hdi_97%</th>\n",
       "      <th>mcse_mean</th>\n",
       "      <th>mcse_sd</th>\n",
       "      <th>ess_bulk</th>\n",
       "      <th>ess_tail</th>\n",
       "      <th>r_hat</th>\n",
       "    </tr>\n",
       "  </thead>\n",
       "  <tbody>\n",
       "    <tr>\n",
       "      <th>beta_lactose</th>\n",
       "      <td>-0.899</td>\n",
       "      <td>0.078</td>\n",
       "      <td>-1.036</td>\n",
       "      <td>-0.748</td>\n",
       "      <td>0.001</td>\n",
       "      <td>0.001</td>\n",
       "      <td>4820.0</td>\n",
       "      <td>2943.0</td>\n",
       "      <td>1.0</td>\n",
       "    </tr>\n",
       "    <tr>\n",
       "      <th>alpha</th>\n",
       "      <td>-0.002</td>\n",
       "      <td>0.072</td>\n",
       "      <td>-0.134</td>\n",
       "      <td>0.132</td>\n",
       "      <td>0.001</td>\n",
       "      <td>0.001</td>\n",
       "      <td>4203.0</td>\n",
       "      <td>2628.0</td>\n",
       "      <td>1.0</td>\n",
       "    </tr>\n",
       "  </tbody>\n",
       "</table>\n",
       "</div>"
      ],
      "text/plain": [
       "               mean     sd  hdi_3%  hdi_97%  mcse_mean  mcse_sd  ess_bulk  \\\n",
       "beta_lactose -0.899  0.078  -1.036   -0.748      0.001    0.001    4820.0   \n",
       "alpha        -0.002  0.072  -0.134    0.132      0.001    0.001    4203.0   \n",
       "\n",
       "              ess_tail  r_hat  \n",
       "beta_lactose    2943.0    1.0  \n",
       "alpha           2628.0    1.0  "
      ]
     },
     "execution_count": 32,
     "metadata": {},
     "output_type": "execute_result"
    }
   ],
   "source": [
    "az.summary(m2_trace, var_names=['beta_lactose', 'alpha'])"
   ]
  },
  {
   "cell_type": "code",
   "execution_count": 33,
   "id": "144cf8d3-c5d1-4579-846b-705db9c8f150",
   "metadata": {},
   "outputs": [
    {
     "name": "stderr",
     "output_type": "stream",
     "text": [
      "Auto-assigning NUTS sampler...\n",
      "Initializing NUTS using jitter+adapt_diag...\n",
      "Multiprocess sampling (4 chains in 4 jobs)\n",
      "NUTS: [sigma, beta_fat, beta_lactose, alpha]\n"
     ]
    },
    {
     "data": {
      "text/html": [
       "\n",
       "    <div>\n",
       "        <style>\n",
       "            /* Turns off some styling */\n",
       "            progress {\n",
       "                /* gets rid of default border in Firefox and Opera. */\n",
       "                border: none;\n",
       "                /* Needs to be in here for Safari polyfill so background images work as expected. */\n",
       "                background-size: auto;\n",
       "            }\n",
       "            .progress-bar-interrupted, .progress-bar-interrupted::-webkit-progress-bar {\n",
       "                background: #F44336;\n",
       "            }\n",
       "        </style>\n",
       "      <progress value='8000' class='' max='8000' style='width:300px; height:20px; vertical-align: middle;'></progress>\n",
       "      100.00% [8000/8000 00:06<00:00 Sampling 4 chains, 0 divergences]\n",
       "    </div>\n",
       "    "
      ],
      "text/plain": [
       "<IPython.core.display.HTML object>"
      ]
     },
     "metadata": {},
     "output_type": "display_data"
    },
    {
     "name": "stderr",
     "output_type": "stream",
     "text": [
      "Sampling 4 chains for 1_000 tune and 1_000 draw iterations (4_000 + 4_000 draws total) took 20 seconds.\n"
     ]
    }
   ],
   "source": [
    "with pm.Model() as m3:\n",
    "    alpha = pm.Normal('alpha', 0, 0.2)\n",
    "    beta_lactose = pm.Normal('beta_lactose', 0, 0.5)\n",
    "    beta_fat = pm.Normal('beta_fat', 0, 0.5)\n",
    "\n",
    "    sigma = pm.Exponential('sigma', 1)\n",
    "    mu = pm.Deterministic('mu', alpha + beta_lactose * milk.standarized_lactose + beta_fat * milk.standarized_fat)\n",
    "    sdr = pm.Normal('standarized_kcal', mu, sd=sigma, observed=milk['standarized_kcal'])\n",
    "    m3_trace = pm.sample(return_inferencedata=True)\n",
    "    m3_prior_predictive = pm.sample_prior_predictive()"
   ]
  },
  {
   "cell_type": "code",
   "execution_count": 34,
   "id": "071e4cd9-29c8-41db-b4f0-bf5d37185b4e",
   "metadata": {},
   "outputs": [
    {
     "data": {
      "text/html": [
       "<div>\n",
       "<style scoped>\n",
       "    .dataframe tbody tr th:only-of-type {\n",
       "        vertical-align: middle;\n",
       "    }\n",
       "\n",
       "    .dataframe tbody tr th {\n",
       "        vertical-align: top;\n",
       "    }\n",
       "\n",
       "    .dataframe thead th {\n",
       "        text-align: right;\n",
       "    }\n",
       "</style>\n",
       "<table border=\"1\" class=\"dataframe\">\n",
       "  <thead>\n",
       "    <tr style=\"text-align: right;\">\n",
       "      <th></th>\n",
       "      <th>mean</th>\n",
       "      <th>sd</th>\n",
       "      <th>hdi_3%</th>\n",
       "      <th>hdi_97%</th>\n",
       "      <th>mcse_mean</th>\n",
       "      <th>mcse_sd</th>\n",
       "      <th>ess_bulk</th>\n",
       "      <th>ess_tail</th>\n",
       "      <th>r_hat</th>\n",
       "    </tr>\n",
       "  </thead>\n",
       "  <tbody>\n",
       "    <tr>\n",
       "      <th>beta_lactose</th>\n",
       "      <td>-0.669</td>\n",
       "      <td>0.202</td>\n",
       "      <td>-1.064</td>\n",
       "      <td>-0.308</td>\n",
       "      <td>0.005</td>\n",
       "      <td>0.004</td>\n",
       "      <td>1355.0</td>\n",
       "      <td>1572.0</td>\n",
       "      <td>1.0</td>\n",
       "    </tr>\n",
       "    <tr>\n",
       "      <th>beta_fat</th>\n",
       "      <td>0.249</td>\n",
       "      <td>0.201</td>\n",
       "      <td>-0.139</td>\n",
       "      <td>0.622</td>\n",
       "      <td>0.006</td>\n",
       "      <td>0.004</td>\n",
       "      <td>1324.0</td>\n",
       "      <td>1536.0</td>\n",
       "      <td>1.0</td>\n",
       "    </tr>\n",
       "    <tr>\n",
       "      <th>alpha</th>\n",
       "      <td>0.001</td>\n",
       "      <td>0.076</td>\n",
       "      <td>-0.130</td>\n",
       "      <td>0.147</td>\n",
       "      <td>0.002</td>\n",
       "      <td>0.001</td>\n",
       "      <td>2511.0</td>\n",
       "      <td>2034.0</td>\n",
       "      <td>1.0</td>\n",
       "    </tr>\n",
       "  </tbody>\n",
       "</table>\n",
       "</div>"
      ],
      "text/plain": [
       "               mean     sd  hdi_3%  hdi_97%  mcse_mean  mcse_sd  ess_bulk  \\\n",
       "beta_lactose -0.669  0.202  -1.064   -0.308      0.005    0.004    1355.0   \n",
       "beta_fat      0.249  0.201  -0.139    0.622      0.006    0.004    1324.0   \n",
       "alpha         0.001  0.076  -0.130    0.147      0.002    0.001    2511.0   \n",
       "\n",
       "              ess_tail  r_hat  \n",
       "beta_lactose    1572.0    1.0  \n",
       "beta_fat        1536.0    1.0  \n",
       "alpha           2034.0    1.0  "
      ]
     },
     "execution_count": 34,
     "metadata": {},
     "output_type": "execute_result"
    }
   ],
   "source": [
    "az.summary(m3_trace, var_names=['beta_lactose', 'beta_fat', 'alpha'])"
   ]
  },
  {
   "cell_type": "markdown",
   "id": "13078c53-2f36-43e7-9f93-f0625e147672",
   "metadata": {},
   "source": [
    "# Post treatment bias"
   ]
  },
  {
   "cell_type": "markdown",
   "id": "39248847-708e-48cb-bd60-eed513207d4f",
   "metadata": {},
   "source": [
    "In general people take care about consequences of not including variables in the model, but less often about consequences of including them. Post-treatment bias is one case of problematic inclution"
   ]
  },
  {
   "cell_type": "markdown",
   "id": "e84c2f86-6f73-4c67-81f5-61347c498369",
   "metadata": {},
   "source": [
    "## Fungus example"
   ]
  },
  {
   "cell_type": "code",
   "execution_count": 42,
   "id": "8ca25983-c756-467d-8f97-3d05b8f77879",
   "metadata": {},
   "outputs": [],
   "source": [
    "n = 100\n",
    "heights_0 = np.random.normal(10,2,size=n)\n",
    "treatment = np.random.binomial(n=1, p=1/2, size=n)\n",
    "fungus = np.random.binomial(n=1, size=n, p=0.5 - treatment * 0.4)\n",
    "heights_1 = heights_0 + np.random.normal(5-3*fungus, size=n)\n",
    "heights_df = pd.DataFrame({\n",
    "'heights_0': heights_0,\n",
    "'treatment': treatment,\n",
    "'fungus': fungus,\n",
    "'heights_1': heights_1,})"
   ]
  },
  {
   "cell_type": "markdown",
   "id": "21a937b7-0537-48f0-89bd-86d708a92fbd",
   "metadata": {},
   "source": [
    "## Growth only wrt initial height"
   ]
  },
  {
   "cell_type": "code",
   "execution_count": 55,
   "id": "95c26e74-dc7d-4dbf-89e1-bea99574ee35",
   "metadata": {},
   "outputs": [
    {
     "name": "stderr",
     "output_type": "stream",
     "text": [
      "Auto-assigning NUTS sampler...\n",
      "Initializing NUTS using jitter+adapt_diag...\n",
      "Multiprocess sampling (4 chains in 4 jobs)\n",
      "NUTS: [sigma, proportion]\n"
     ]
    },
    {
     "data": {
      "text/html": [
       "\n",
       "    <div>\n",
       "        <style>\n",
       "            /* Turns off some styling */\n",
       "            progress {\n",
       "                /* gets rid of default border in Firefox and Opera. */\n",
       "                border: none;\n",
       "                /* Needs to be in here for Safari polyfill so background images work as expected. */\n",
       "                background-size: auto;\n",
       "            }\n",
       "            .progress-bar-interrupted, .progress-bar-interrupted::-webkit-progress-bar {\n",
       "                background: #F44336;\n",
       "            }\n",
       "        </style>\n",
       "      <progress value='8000' class='' max='8000' style='width:300px; height:20px; vertical-align: middle;'></progress>\n",
       "      100.00% [8000/8000 00:04<00:00 Sampling 4 chains, 0 divergences]\n",
       "    </div>\n",
       "    "
      ],
      "text/plain": [
       "<IPython.core.display.HTML object>"
      ]
     },
     "metadata": {},
     "output_type": "display_data"
    },
    {
     "name": "stderr",
     "output_type": "stream",
     "text": [
      "Sampling 4 chains for 1_000 tune and 1_000 draw iterations (4_000 + 4_000 draws total) took 20 seconds.\n"
     ]
    }
   ],
   "source": [
    "h0 = np.asarray(heights_df.heights_0)\n",
    "with pm.Model() as m4:\n",
    "    proportion = pm.Lognormal('proportion', 0, 0.25)\n",
    "    sigma = pm.Exponential('sigma', 1)\n",
    "    sdr = pm.Normal('growth_proportion', mu=proportion*h0 , sigma=sigma, observed=heights_df['heights_1'])\n",
    "    m4_trace = pm.sample(return_inferencedata=True)\n",
    "    m4_prior_predictive = pm.sample_prior_predictive()"
   ]
  },
  {
   "cell_type": "code",
   "execution_count": 56,
   "id": "fcdf9c00-bd18-4851-9c60-6d11de258291",
   "metadata": {},
   "outputs": [
    {
     "data": {
      "text/html": [
       "<div>\n",
       "<style scoped>\n",
       "    .dataframe tbody tr th:only-of-type {\n",
       "        vertical-align: middle;\n",
       "    }\n",
       "\n",
       "    .dataframe tbody tr th {\n",
       "        vertical-align: top;\n",
       "    }\n",
       "\n",
       "    .dataframe thead th {\n",
       "        text-align: right;\n",
       "    }\n",
       "</style>\n",
       "<table border=\"1\" class=\"dataframe\">\n",
       "  <thead>\n",
       "    <tr style=\"text-align: right;\">\n",
       "      <th></th>\n",
       "      <th>mean</th>\n",
       "      <th>sd</th>\n",
       "      <th>hdi_3%</th>\n",
       "      <th>hdi_97%</th>\n",
       "      <th>mcse_mean</th>\n",
       "      <th>mcse_sd</th>\n",
       "      <th>ess_bulk</th>\n",
       "      <th>ess_tail</th>\n",
       "      <th>r_hat</th>\n",
       "    </tr>\n",
       "  </thead>\n",
       "  <tbody>\n",
       "    <tr>\n",
       "      <th>proportion</th>\n",
       "      <td>1.388</td>\n",
       "      <td>0.020</td>\n",
       "      <td>1.349</td>\n",
       "      <td>1.423</td>\n",
       "      <td>0.000</td>\n",
       "      <td>0.000</td>\n",
       "      <td>3717.0</td>\n",
       "      <td>2617.0</td>\n",
       "      <td>1.0</td>\n",
       "    </tr>\n",
       "    <tr>\n",
       "      <th>sigma</th>\n",
       "      <td>1.975</td>\n",
       "      <td>0.142</td>\n",
       "      <td>1.724</td>\n",
       "      <td>2.254</td>\n",
       "      <td>0.002</td>\n",
       "      <td>0.002</td>\n",
       "      <td>3611.0</td>\n",
       "      <td>3013.0</td>\n",
       "      <td>1.0</td>\n",
       "    </tr>\n",
       "  </tbody>\n",
       "</table>\n",
       "</div>"
      ],
      "text/plain": [
       "             mean     sd  hdi_3%  hdi_97%  mcse_mean  mcse_sd  ess_bulk  \\\n",
       "proportion  1.388  0.020   1.349    1.423      0.000    0.000    3717.0   \n",
       "sigma       1.975  0.142   1.724    2.254      0.002    0.002    3611.0   \n",
       "\n",
       "            ess_tail  r_hat  \n",
       "proportion    2617.0    1.0  \n",
       "sigma         3013.0    1.0  "
      ]
     },
     "execution_count": 56,
     "metadata": {},
     "output_type": "execute_result"
    }
   ],
   "source": [
    "az.summary(m4_trace, var_names=['proportion', 'sigma'])"
   ]
  },
  {
   "cell_type": "markdown",
   "id": "370c64a4-367e-4984-b8a9-b8bc61115bf0",
   "metadata": {},
   "source": [
    "## Including Fungus and treatment"
   ]
  },
  {
   "cell_type": "code",
   "execution_count": 59,
   "id": "f9bc9839-302f-44e0-8cd9-521350e93593",
   "metadata": {},
   "outputs": [
    {
     "name": "stderr",
     "output_type": "stream",
     "text": [
      "Auto-assigning NUTS sampler...\n",
      "Initializing NUTS using jitter+adapt_diag...\n",
      "Multiprocess sampling (4 chains in 4 jobs)\n",
      "NUTS: [alpha, beta_fungus, beta_treatment, sigma]\n"
     ]
    },
    {
     "data": {
      "text/html": [
       "\n",
       "    <div>\n",
       "        <style>\n",
       "            /* Turns off some styling */\n",
       "            progress {\n",
       "                /* gets rid of default border in Firefox and Opera. */\n",
       "                border: none;\n",
       "                /* Needs to be in here for Safari polyfill so background images work as expected. */\n",
       "                background-size: auto;\n",
       "            }\n",
       "            .progress-bar-interrupted, .progress-bar-interrupted::-webkit-progress-bar {\n",
       "                background: #F44336;\n",
       "            }\n",
       "        </style>\n",
       "      <progress value='8000' class='' max='8000' style='width:300px; height:20px; vertical-align: middle;'></progress>\n",
       "      100.00% [8000/8000 00:04<00:00 Sampling 4 chains, 0 divergences]\n",
       "    </div>\n",
       "    "
      ],
      "text/plain": [
       "<IPython.core.display.HTML object>"
      ]
     },
     "metadata": {},
     "output_type": "display_data"
    },
    {
     "name": "stderr",
     "output_type": "stream",
     "text": [
      "Sampling 4 chains for 1_000 tune and 1_000 draw iterations (4_000 + 4_000 draws total) took 18 seconds.\n",
      "The acceptance probability does not match the target. It is 0.8958949075991842, but should be close to 0.8. Try to increase the number of tuning steps.\n",
      "The acceptance probability does not match the target. It is 0.8847142810519663, but should be close to 0.8. Try to increase the number of tuning steps.\n",
      "The acceptance probability does not match the target. It is 0.8835652701820682, but should be close to 0.8. Try to increase the number of tuning steps.\n"
     ]
    }
   ],
   "source": [
    "with pm.Model() as m5:\n",
    "    sigma = pm.Exponential('sigma', 1)\n",
    "    beta_treatment = pm.Normal('beta_treatment', 0, 0.5)\n",
    "    beta_fungus = pm.Normal('beta_fungus', 0, 0.5)\n",
    "    alpha = pm.Lognormal('alpha', 0, 0.25)\n",
    "    \n",
    "    proportion = pm.Deterministic('proportion', alpha + beta_treatment * heights_df.treatment + beta_fungus * heights_df.fungus)\n",
    "    \n",
    "    sdr = pm.Normal('growth_proportion', mu=proportion*h0 , sigma=sigma, observed=heights_df['heights_1'])\n",
    "    m5_trace = pm.sample(return_inferencedata=True)\n",
    "    m5_prior_predictive = pm.sample_prior_predictive()"
   ]
  },
  {
   "cell_type": "code",
   "execution_count": 62,
   "id": "31123f7b-afa4-4c40-8535-9ce781e26cca",
   "metadata": {},
   "outputs": [
    {
     "data": {
      "text/html": [
       "<div>\n",
       "<style scoped>\n",
       "    .dataframe tbody tr th:only-of-type {\n",
       "        vertical-align: middle;\n",
       "    }\n",
       "\n",
       "    .dataframe tbody tr th {\n",
       "        vertical-align: top;\n",
       "    }\n",
       "\n",
       "    .dataframe thead th {\n",
       "        text-align: right;\n",
       "    }\n",
       "</style>\n",
       "<table border=\"1\" class=\"dataframe\">\n",
       "  <thead>\n",
       "    <tr style=\"text-align: right;\">\n",
       "      <th></th>\n",
       "      <th>mean</th>\n",
       "      <th>sd</th>\n",
       "      <th>hdi_3%</th>\n",
       "      <th>hdi_97%</th>\n",
       "      <th>mcse_mean</th>\n",
       "      <th>mcse_sd</th>\n",
       "      <th>ess_bulk</th>\n",
       "      <th>ess_tail</th>\n",
       "      <th>r_hat</th>\n",
       "    </tr>\n",
       "  </thead>\n",
       "  <tbody>\n",
       "    <tr>\n",
       "      <th>beta_treatment</th>\n",
       "      <td>-0.015</td>\n",
       "      <td>0.033</td>\n",
       "      <td>-0.077</td>\n",
       "      <td>0.046</td>\n",
       "      <td>0.001</td>\n",
       "      <td>0.001</td>\n",
       "      <td>1462.0</td>\n",
       "      <td>1944.0</td>\n",
       "      <td>1.0</td>\n",
       "    </tr>\n",
       "    <tr>\n",
       "      <th>beta_fungus</th>\n",
       "      <td>-0.303</td>\n",
       "      <td>0.033</td>\n",
       "      <td>-0.365</td>\n",
       "      <td>-0.239</td>\n",
       "      <td>0.001</td>\n",
       "      <td>0.001</td>\n",
       "      <td>1595.0</td>\n",
       "      <td>2003.0</td>\n",
       "      <td>1.0</td>\n",
       "    </tr>\n",
       "    <tr>\n",
       "      <th>sigma</th>\n",
       "      <td>1.342</td>\n",
       "      <td>0.096</td>\n",
       "      <td>1.166</td>\n",
       "      <td>1.527</td>\n",
       "      <td>0.002</td>\n",
       "      <td>0.001</td>\n",
       "      <td>3020.0</td>\n",
       "      <td>2406.0</td>\n",
       "      <td>1.0</td>\n",
       "    </tr>\n",
       "  </tbody>\n",
       "</table>\n",
       "</div>"
      ],
      "text/plain": [
       "                 mean     sd  hdi_3%  hdi_97%  mcse_mean  mcse_sd  ess_bulk  \\\n",
       "beta_treatment -0.015  0.033  -0.077    0.046      0.001    0.001    1462.0   \n",
       "beta_fungus    -0.303  0.033  -0.365   -0.239      0.001    0.001    1595.0   \n",
       "sigma           1.342  0.096   1.166    1.527      0.002    0.001    3020.0   \n",
       "\n",
       "                ess_tail  r_hat  \n",
       "beta_treatment    1944.0    1.0  \n",
       "beta_fungus       2003.0    1.0  \n",
       "sigma             2406.0    1.0  "
      ]
     },
     "execution_count": 62,
     "metadata": {},
     "output_type": "execute_result"
    }
   ],
   "source": [
    "az.summary(m5_trace, var_names=['beta_treatment', 'beta_fungus', 'sigma'])"
   ]
  },
  {
   "cell_type": "markdown",
   "id": "164d94ae-67c0-4dfd-89e0-204471fe4fee",
   "metadata": {},
   "source": [
    "Treatment is not associated with growth, although we know it certainly is given the way data was constructed"
   ]
  },
  {
   "cell_type": "code",
   "execution_count": 63,
   "id": "464a98ce-d4b3-4006-a2ca-7b5e8b6142a8",
   "metadata": {},
   "outputs": [
    {
     "name": "stderr",
     "output_type": "stream",
     "text": [
      "Auto-assigning NUTS sampler...\n",
      "Initializing NUTS using jitter+adapt_diag...\n",
      "Multiprocess sampling (4 chains in 4 jobs)\n",
      "NUTS: [alpha, beta_treatment, sigma]\n"
     ]
    },
    {
     "data": {
      "text/html": [
       "\n",
       "    <div>\n",
       "        <style>\n",
       "            /* Turns off some styling */\n",
       "            progress {\n",
       "                /* gets rid of default border in Firefox and Opera. */\n",
       "                border: none;\n",
       "                /* Needs to be in here for Safari polyfill so background images work as expected. */\n",
       "                background-size: auto;\n",
       "            }\n",
       "            .progress-bar-interrupted, .progress-bar-interrupted::-webkit-progress-bar {\n",
       "                background: #F44336;\n",
       "            }\n",
       "        </style>\n",
       "      <progress value='8000' class='' max='8000' style='width:300px; height:20px; vertical-align: middle;'></progress>\n",
       "      100.00% [8000/8000 00:03<00:00 Sampling 4 chains, 0 divergences]\n",
       "    </div>\n",
       "    "
      ],
      "text/plain": [
       "<IPython.core.display.HTML object>"
      ]
     },
     "metadata": {},
     "output_type": "display_data"
    },
    {
     "name": "stderr",
     "output_type": "stream",
     "text": [
      "Sampling 4 chains for 1_000 tune and 1_000 draw iterations (4_000 + 4_000 draws total) took 16 seconds.\n",
      "The acceptance probability does not match the target. It is 0.8890655723841803, but should be close to 0.8. Try to increase the number of tuning steps.\n",
      "The acceptance probability does not match the target. It is 0.8915858534704867, but should be close to 0.8. Try to increase the number of tuning steps.\n"
     ]
    }
   ],
   "source": [
    "with pm.Model() as m6:\n",
    "    sigma = pm.Exponential('sigma', 1)\n",
    "    beta_treatment = pm.Normal('beta_treatment', 0, 0.5)\n",
    "    alpha = pm.Lognormal('alpha', 0, 0.25)\n",
    "    \n",
    "    proportion = pm.Deterministic('proportion', alpha + beta_treatment * heights_df.treatment)\n",
    "    \n",
    "    sdr = pm.Normal('growth_proportion', mu=proportion*h0 , sigma=sigma, observed=heights_df['heights_1'])\n",
    "    m6_trace = pm.sample(return_inferencedata=True)"
   ]
  },
  {
   "cell_type": "code",
   "execution_count": 64,
   "id": "219416fb-0fca-4ce7-8d8c-59fa61a6458d",
   "metadata": {},
   "outputs": [
    {
     "data": {
      "text/html": [
       "<div>\n",
       "<style scoped>\n",
       "    .dataframe tbody tr th:only-of-type {\n",
       "        vertical-align: middle;\n",
       "    }\n",
       "\n",
       "    .dataframe tbody tr th {\n",
       "        vertical-align: top;\n",
       "    }\n",
       "\n",
       "    .dataframe thead th {\n",
       "        text-align: right;\n",
       "    }\n",
       "</style>\n",
       "<table border=\"1\" class=\"dataframe\">\n",
       "  <thead>\n",
       "    <tr style=\"text-align: right;\">\n",
       "      <th></th>\n",
       "      <th>mean</th>\n",
       "      <th>sd</th>\n",
       "      <th>hdi_3%</th>\n",
       "      <th>hdi_97%</th>\n",
       "      <th>mcse_mean</th>\n",
       "      <th>mcse_sd</th>\n",
       "      <th>ess_bulk</th>\n",
       "      <th>ess_tail</th>\n",
       "      <th>r_hat</th>\n",
       "    </tr>\n",
       "  </thead>\n",
       "  <tbody>\n",
       "    <tr>\n",
       "      <th>beta_treatment</th>\n",
       "      <td>0.147</td>\n",
       "      <td>0.037</td>\n",
       "      <td>0.074</td>\n",
       "      <td>0.216</td>\n",
       "      <td>0.001</td>\n",
       "      <td>0.001</td>\n",
       "      <td>1761.0</td>\n",
       "      <td>1961.0</td>\n",
       "      <td>1.0</td>\n",
       "    </tr>\n",
       "    <tr>\n",
       "      <th>sigma</th>\n",
       "      <td>1.839</td>\n",
       "      <td>0.135</td>\n",
       "      <td>1.594</td>\n",
       "      <td>2.094</td>\n",
       "      <td>0.003</td>\n",
       "      <td>0.002</td>\n",
       "      <td>2740.0</td>\n",
       "      <td>2672.0</td>\n",
       "      <td>1.0</td>\n",
       "    </tr>\n",
       "    <tr>\n",
       "      <th>alpha</th>\n",
       "      <td>1.297</td>\n",
       "      <td>0.030</td>\n",
       "      <td>1.241</td>\n",
       "      <td>1.354</td>\n",
       "      <td>0.001</td>\n",
       "      <td>0.001</td>\n",
       "      <td>1736.0</td>\n",
       "      <td>2052.0</td>\n",
       "      <td>1.0</td>\n",
       "    </tr>\n",
       "  </tbody>\n",
       "</table>\n",
       "</div>"
      ],
      "text/plain": [
       "                 mean     sd  hdi_3%  hdi_97%  mcse_mean  mcse_sd  ess_bulk  \\\n",
       "beta_treatment  0.147  0.037   0.074    0.216      0.001    0.001    1761.0   \n",
       "sigma           1.839  0.135   1.594    2.094      0.003    0.002    2740.0   \n",
       "alpha           1.297  0.030   1.241    1.354      0.001    0.001    1736.0   \n",
       "\n",
       "                ess_tail  r_hat  \n",
       "beta_treatment    1961.0    1.0  \n",
       "sigma             2672.0    1.0  \n",
       "alpha             2052.0    1.0  "
      ]
     },
     "execution_count": 64,
     "metadata": {},
     "output_type": "execute_result"
    }
   ],
   "source": [
    "az.summary(m6_trace, var_names=['beta_treatment', 'sigma', 'alpha'])"
   ]
  },
  {
   "cell_type": "code",
   "execution_count": 65,
   "id": "a7b67e14-b02b-4cc0-af4d-ee7947eaacdc",
   "metadata": {},
   "outputs": [
    {
     "data": {
      "image/png": "[encoded data removed]",
      "text/plain": [
       "<Figure size 266.457x39.685 with 1 Axes>"
      ]
     },
     "metadata": {},
     "output_type": "display_data"
    }
   ],
   "source": [
    "import daft\n",
    "\n",
    "from causalgraphicalmodels import CausalGraphicalModel\n",
    "\n",
    "plant_dag = CausalGraphicalModel(\n",
    "    nodes=[\"H0\", \"H1\", \"F\", \"T\"], edges=[(\"H0\", \"H1\"), (\"F\", \"H1\"), (\"T\", \"F\")]\n",
    ")\n",
    "pgm = daft.PGM()\n",
    "coordinates = {\"H0\": (0, 0), \"T\": (4, 0), \"F\": (3, 0), \"H1\": (2, 0)}\n",
    "for node in plant_dag.dag.nodes:\n",
    "    pgm.add_node(node, node, *coordinates[node])\n",
    "for edge in plant_dag.dag.edges:\n",
    "    pgm.add_edge(*edge)\n",
    "pgm.render(backgo)\n",
    "plt.gca().invert_yaxis()"
   ]
  },
  {
   "cell_type": "markdown",
   "id": "47151565-62de-4456-9c30-2a80256a9af3",
   "metadata": {},
   "source": [
    "# Collider bias"
   ]
  },
  {
   "cell_type": "code",
   "execution_count": 69,
   "id": "4100e54f-f585-4a99-bd36-6c51a6a8c320",
   "metadata": {},
   "outputs": [],
   "source": [
    "# This one just copy pasting from pymc port\n",
    "def inv_logit(x):\n",
    "    return np.exp(x) / (1 + np.exp(x))\n",
    "\n",
    "\n",
    "def sim_happiness(N_years=100, seed=1234):\n",
    "    np.random.seed(seed)\n",
    "\n",
    "    popn = pd.DataFrame(np.zeros((20 * 65, 3)), columns=[\"age\", \"happiness\", \"married\"])\n",
    "    popn.loc[:, \"age\"] = np.repeat(np.arange(65), 20)\n",
    "    popn.loc[:, \"happiness\"] = np.repeat(np.linspace(-2, 2, 20), 65)\n",
    "    popn.loc[:, \"married\"] = np.array(popn.loc[:, \"married\"].values, dtype=\"bool\")\n",
    "\n",
    "    for i in range(N_years):\n",
    "        # age population\n",
    "        popn.loc[:, \"age\"] += 1\n",
    "        # replace old folk with new folk\n",
    "        ind = popn.age == 65\n",
    "        popn.loc[ind, \"age\"] = 0\n",
    "        popn.loc[ind, \"married\"] = False\n",
    "        popn.loc[ind, \"happiness\"] = np.linspace(-2, 2, 20)\n",
    "\n",
    "        # do the work\n",
    "        elligible = (popn.married == 0) & (popn.age >= 18)\n",
    "        marry = np.random.binomial(1, inv_logit(popn.loc[elligible, \"happiness\"] - 4)) == 1\n",
    "        popn.loc[elligible, \"married\"] = marry\n",
    "\n",
    "    popn.sort_values(\"age\", inplace=True, ignore_index=True)\n",
    "\n",
    "    return popn"
   ]
  },
  {
   "cell_type": "code",
   "execution_count": 68,
   "id": "00ac51ee-a078-40dc-9eee-a1ae9a6e76bf",
   "metadata": {},
   "outputs": [],
   "source": [
    "popn = sim_happiness()\n"
   ]
  },
  {
   "cell_type": "code",
   "execution_count": 71,
   "id": "f7fcdf7c-25c1-4a82-9cdb-5c47d031e74a",
   "metadata": {},
   "outputs": [
    {
     "data": {
      "text/html": [
       "<div>\n",
       "<style scoped>\n",
       "    .dataframe tbody tr th:only-of-type {\n",
       "        vertical-align: middle;\n",
       "    }\n",
       "\n",
       "    .dataframe tbody tr th {\n",
       "        vertical-align: top;\n",
       "    }\n",
       "\n",
       "    .dataframe thead th {\n",
       "        text-align: right;\n",
       "    }\n",
       "</style>\n",
       "<table border=\"1\" class=\"dataframe\">\n",
       "  <thead>\n",
       "    <tr style=\"text-align: right;\">\n",
       "      <th></th>\n",
       "      <th>age</th>\n",
       "      <th>happiness</th>\n",
       "      <th>married</th>\n",
       "    </tr>\n",
       "  </thead>\n",
       "  <tbody>\n",
       "    <tr>\n",
       "      <th>0</th>\n",
       "      <td>0</td>\n",
       "      <td>0.947368</td>\n",
       "      <td>False</td>\n",
       "    </tr>\n",
       "    <tr>\n",
       "      <th>1</th>\n",
       "      <td>0</td>\n",
       "      <td>2.000000</td>\n",
       "      <td>False</td>\n",
       "    </tr>\n",
       "    <tr>\n",
       "      <th>2</th>\n",
       "      <td>0</td>\n",
       "      <td>1.789474</td>\n",
       "      <td>False</td>\n",
       "    </tr>\n",
       "    <tr>\n",
       "      <th>3</th>\n",
       "      <td>0</td>\n",
       "      <td>1.578947</td>\n",
       "      <td>False</td>\n",
       "    </tr>\n",
       "    <tr>\n",
       "      <th>4</th>\n",
       "      <td>0</td>\n",
       "      <td>1.368421</td>\n",
       "      <td>False</td>\n",
       "    </tr>\n",
       "  </tbody>\n",
       "</table>\n",
       "</div>"
      ],
      "text/plain": [
       "   age  happiness  married\n",
       "0    0   0.947368    False\n",
       "1    0   2.000000    False\n",
       "2    0   1.789474    False\n",
       "3    0   1.578947    False\n",
       "4    0   1.368421    False"
      ]
     },
     "execution_count": 71,
     "metadata": {},
     "output_type": "execute_result"
    }
   ],
   "source": [
    "popn.head()"
   ]
  },
  {
   "cell_type": "code",
   "execution_count": 79,
   "id": "3b9a2c5c-ba6c-4ffa-89c1-1070f788a751",
   "metadata": {},
   "outputs": [
    {
     "name": "stderr",
     "output_type": "stream",
     "text": [
      "/var/folders/hy/9qct0wrx5pl34rzz153ys6sw0000gp/T/ipykernel_9512/1174518190.py:2: SettingWithCopyWarning: \n",
      "A value is trying to be set on a copy of a slice from a DataFrame.\n",
      "Try using .loc[row_indexer,col_indexer] = value instead\n",
      "\n",
      "See the caveats in the documentation: https://pandas.pydata.org/pandas-docs/stable/user_guide/indexing.html#returning-a-view-versus-a-copy\n",
      "  popn['age'] = popn.age - 18 / (65-18)\n"
     ]
    }
   ],
   "source": [
    "popn = popn[popn.age > 17]\n",
    "popn['age'] = popn.age - 18 / (65-18)"
   ]
  },
  {
   "cell_type": "code",
   "execution_count": 84,
   "id": "93ee7b77-da2c-45e1-856a-c5df1a2b960c",
   "metadata": {},
   "outputs": [
    {
     "name": "stderr",
     "output_type": "stream",
     "text": [
      "/var/folders/hy/9qct0wrx5pl34rzz153ys6sw0000gp/T/ipykernel_9512/2888753241.py:1: SettingWithCopyWarning: \n",
      "A value is trying to be set on a copy of a slice from a DataFrame.\n",
      "Try using .loc[row_indexer,col_indexer] = value instead\n",
      "\n",
      "See the caveats in the documentation: https://pandas.pydata.org/pandas-docs/stable/user_guide/indexing.html#returning-a-view-versus-a-copy\n",
      "  popn['marriage_indicator'] = popn.married.apply(lambda x: 1 if x else 0)\n",
      "Auto-assigning NUTS sampler...\n",
      "Initializing NUTS using jitter+adapt_diag...\n",
      "Multiprocess sampling (4 chains in 4 jobs)\n",
      "NUTS: [alpha_married, alpha_single, beta_age, sigma]\n"
     ]
    },
    {
     "data": {
      "text/html": [
       "\n",
       "    <div>\n",
       "        <style>\n",
       "            /* Turns off some styling */\n",
       "            progress {\n",
       "                /* gets rid of default border in Firefox and Opera. */\n",
       "                border: none;\n",
       "                /* Needs to be in here for Safari polyfill so background images work as expected. */\n",
       "                background-size: auto;\n",
       "            }\n",
       "            .progress-bar-interrupted, .progress-bar-interrupted::-webkit-progress-bar {\n",
       "                background: #F44336;\n",
       "            }\n",
       "        </style>\n",
       "      <progress value='8000' class='' max='8000' style='width:300px; height:20px; vertical-align: middle;'></progress>\n",
       "      100.00% [8000/8000 00:06<00:00 Sampling 4 chains, 0 divergences]\n",
       "    </div>\n",
       "    "
      ],
      "text/plain": [
       "<IPython.core.display.HTML object>"
      ]
     },
     "metadata": {},
     "output_type": "display_data"
    },
    {
     "name": "stderr",
     "output_type": "stream",
     "text": [
      "Sampling 4 chains for 1_000 tune and 1_000 draw iterations (4_000 + 4_000 draws total) took 20 seconds.\n"
     ]
    }
   ],
   "source": [
    "popn['marriage_indicator'] = popn.married.apply(lambda x: 1 if x else 0)\n",
    "with pm.Model() as m7:\n",
    "    sigma = pm.Exponential('sigma', 1)\n",
    "    beta_age = pm.Normal('beta_age', 0, 2)\n",
    "    alpha = np.array([pm.Normal('alpha_single', 0, 1), pm.Normal('alpha_married', 0, 1)])\n",
    "    alpha = pm.Deterministic(\"alpha\", alpha[0] * (1-popn.marriage_indicator) + alpha[1] * popn.marriage_indicator)\n",
    "    mu = pm.Deterministic('mu', alpha + beta_age * popn['age'])\n",
    "    sdr = pm.Normal('happiness', mu=mu , sigma=sigma, observed=popn['happiness'])\n",
    "    m7_trace = pm.sample(return_inferencedata=True)"
   ]
  },
  {
   "cell_type": "code",
   "execution_count": 85,
   "id": "8aca61cd-0b06-44cc-8d53-dfb357e8fbd7",
   "metadata": {},
   "outputs": [
    {
     "data": {
      "text/html": [
       "<div>\n",
       "<style scoped>\n",
       "    .dataframe tbody tr th:only-of-type {\n",
       "        vertical-align: middle;\n",
       "    }\n",
       "\n",
       "    .dataframe tbody tr th {\n",
       "        vertical-align: top;\n",
       "    }\n",
       "\n",
       "    .dataframe thead th {\n",
       "        text-align: right;\n",
       "    }\n",
       "</style>\n",
       "<table border=\"1\" class=\"dataframe\">\n",
       "  <thead>\n",
       "    <tr style=\"text-align: right;\">\n",
       "      <th></th>\n",
       "      <th>mean</th>\n",
       "      <th>sd</th>\n",
       "      <th>hdi_3%</th>\n",
       "      <th>hdi_97%</th>\n",
       "      <th>mcse_mean</th>\n",
       "      <th>mcse_sd</th>\n",
       "      <th>ess_bulk</th>\n",
       "      <th>ess_tail</th>\n",
       "      <th>r_hat</th>\n",
       "    </tr>\n",
       "  </thead>\n",
       "  <tbody>\n",
       "    <tr>\n",
       "      <th>alpha_single</th>\n",
       "      <td>0.065</td>\n",
       "      <td>0.102</td>\n",
       "      <td>-0.147</td>\n",
       "      <td>0.243</td>\n",
       "      <td>0.003</td>\n",
       "      <td>0.002</td>\n",
       "      <td>1505.0</td>\n",
       "      <td>1795.0</td>\n",
       "      <td>1.0</td>\n",
       "    </tr>\n",
       "    <tr>\n",
       "      <th>alpha_married</th>\n",
       "      <td>1.479</td>\n",
       "      <td>0.127</td>\n",
       "      <td>1.227</td>\n",
       "      <td>1.708</td>\n",
       "      <td>0.003</td>\n",
       "      <td>0.002</td>\n",
       "      <td>1545.0</td>\n",
       "      <td>1827.0</td>\n",
       "      <td>1.0</td>\n",
       "    </tr>\n",
       "    <tr>\n",
       "      <th>beta_age</th>\n",
       "      <td>-0.015</td>\n",
       "      <td>0.003</td>\n",
       "      <td>-0.020</td>\n",
       "      <td>-0.010</td>\n",
       "      <td>0.000</td>\n",
       "      <td>0.000</td>\n",
       "      <td>1442.0</td>\n",
       "      <td>1709.0</td>\n",
       "      <td>1.0</td>\n",
       "    </tr>\n",
       "  </tbody>\n",
       "</table>\n",
       "</div>"
      ],
      "text/plain": [
       "                mean     sd  hdi_3%  hdi_97%  mcse_mean  mcse_sd  ess_bulk  \\\n",
       "alpha_single   0.065  0.102  -0.147    0.243      0.003    0.002    1505.0   \n",
       "alpha_married  1.479  0.127   1.227    1.708      0.003    0.002    1545.0   \n",
       "beta_age      -0.015  0.003  -0.020   -0.010      0.000    0.000    1442.0   \n",
       "\n",
       "               ess_tail  r_hat  \n",
       "alpha_single     1795.0    1.0  \n",
       "alpha_married    1827.0    1.0  \n",
       "beta_age         1709.0    1.0  "
      ]
     },
     "execution_count": 85,
     "metadata": {},
     "output_type": "execute_result"
    }
   ],
   "source": [
    "az.summary(m7_trace, var_names = ['alpha_single', 'alpha_married', 'beta_age'])"
   ]
  },
  {
   "cell_type": "code",
   "execution_count": 86,
   "id": "1d48057c-c454-4fe3-86e4-b03924850757",
   "metadata": {},
   "outputs": [
    {
     "name": "stderr",
     "output_type": "stream",
     "text": [
      "/var/folders/hy/9qct0wrx5pl34rzz153ys6sw0000gp/T/ipykernel_9512/3458000315.py:1: SettingWithCopyWarning: \n",
      "A value is trying to be set on a copy of a slice from a DataFrame.\n",
      "Try using .loc[row_indexer,col_indexer] = value instead\n",
      "\n",
      "See the caveats in the documentation: https://pandas.pydata.org/pandas-docs/stable/user_guide/indexing.html#returning-a-view-versus-a-copy\n",
      "  popn['marriage_indicator'] = popn.married.apply(lambda x: 1 if x else 0)\n",
      "Auto-assigning NUTS sampler...\n",
      "Initializing NUTS using jitter+adapt_diag...\n",
      "Multiprocess sampling (4 chains in 4 jobs)\n",
      "NUTS: [alpha, beta_age, sigma]\n"
     ]
    },
    {
     "data": {
      "text/html": [
       "\n",
       "    <div>\n",
       "        <style>\n",
       "            /* Turns off some styling */\n",
       "            progress {\n",
       "                /* gets rid of default border in Firefox and Opera. */\n",
       "                border: none;\n",
       "                /* Needs to be in here for Safari polyfill so background images work as expected. */\n",
       "                background-size: auto;\n",
       "            }\n",
       "            .progress-bar-interrupted, .progress-bar-interrupted::-webkit-progress-bar {\n",
       "                background: #F44336;\n",
       "            }\n",
       "        </style>\n",
       "      <progress value='8000' class='' max='8000' style='width:300px; height:20px; vertical-align: middle;'></progress>\n",
       "      100.00% [8000/8000 00:05<00:00 Sampling 4 chains, 0 divergences]\n",
       "    </div>\n",
       "    "
      ],
      "text/plain": [
       "<IPython.core.display.HTML object>"
      ]
     },
     "metadata": {},
     "output_type": "display_data"
    },
    {
     "name": "stderr",
     "output_type": "stream",
     "text": [
      "Sampling 4 chains for 1_000 tune and 1_000 draw iterations (4_000 + 4_000 draws total) took 19 seconds.\n",
      "The acceptance probability does not match the target. It is 0.8867005657326522, but should be close to 0.8. Try to increase the number of tuning steps.\n",
      "The acceptance probability does not match the target. It is 0.8987936880096942, but should be close to 0.8. Try to increase the number of tuning steps.\n"
     ]
    }
   ],
   "source": [
    "popn['marriage_indicator'] = popn.married.apply(lambda x: 1 if x else 0)\n",
    "with pm.Model() as m8:\n",
    "    sigma = pm.Exponential('sigma', 1)\n",
    "    beta_age = pm.Normal('beta_age', 0, 2)\n",
    "    alpha = pm.Normal('alpha', 0, 1)\n",
    "    mu = pm.Deterministic('mu', alpha + beta_age * popn['age'])\n",
    "    sdr = pm.Normal('happiness', mu=mu , sigma=sigma, observed=popn['happiness'])\n",
    "    m8_trace = pm.sample(return_inferencedata=True)"
   ]
  },
  {
   "cell_type": "code",
   "execution_count": 87,
   "id": "6e70df60-dd94-4023-bef6-9652be0339d3",
   "metadata": {},
   "outputs": [
    {
     "data": {
      "text/html": [
       "<div>\n",
       "<style scoped>\n",
       "    .dataframe tbody tr th:only-of-type {\n",
       "        vertical-align: middle;\n",
       "    }\n",
       "\n",
       "    .dataframe tbody tr th {\n",
       "        vertical-align: top;\n",
       "    }\n",
       "\n",
       "    .dataframe thead th {\n",
       "        text-align: right;\n",
       "    }\n",
       "</style>\n",
       "<table border=\"1\" class=\"dataframe\">\n",
       "  <thead>\n",
       "    <tr style=\"text-align: right;\">\n",
       "      <th></th>\n",
       "      <th>mean</th>\n",
       "      <th>sd</th>\n",
       "      <th>hdi_3%</th>\n",
       "      <th>hdi_97%</th>\n",
       "      <th>mcse_mean</th>\n",
       "      <th>mcse_sd</th>\n",
       "      <th>ess_bulk</th>\n",
       "      <th>ess_tail</th>\n",
       "      <th>r_hat</th>\n",
       "    </tr>\n",
       "  </thead>\n",
       "  <tbody>\n",
       "    <tr>\n",
       "      <th>alpha</th>\n",
       "      <td>0.006</td>\n",
       "      <td>0.125</td>\n",
       "      <td>-0.218</td>\n",
       "      <td>0.253</td>\n",
       "      <td>0.003</td>\n",
       "      <td>0.003</td>\n",
       "      <td>1590.0</td>\n",
       "      <td>1723.0</td>\n",
       "      <td>1.0</td>\n",
       "    </tr>\n",
       "    <tr>\n",
       "      <th>beta_age</th>\n",
       "      <td>-0.000</td>\n",
       "      <td>0.003</td>\n",
       "      <td>-0.006</td>\n",
       "      <td>0.005</td>\n",
       "      <td>0.000</td>\n",
       "      <td>0.000</td>\n",
       "      <td>1529.0</td>\n",
       "      <td>1732.0</td>\n",
       "      <td>1.0</td>\n",
       "    </tr>\n",
       "  </tbody>\n",
       "</table>\n",
       "</div>"
      ],
      "text/plain": [
       "           mean     sd  hdi_3%  hdi_97%  mcse_mean  mcse_sd  ess_bulk  \\\n",
       "alpha     0.006  0.125  -0.218    0.253      0.003    0.003    1590.0   \n",
       "beta_age -0.000  0.003  -0.006    0.005      0.000    0.000    1529.0   \n",
       "\n",
       "          ess_tail  r_hat  \n",
       "alpha       1723.0    1.0  \n",
       "beta_age    1732.0    1.0  "
      ]
     },
     "execution_count": 87,
     "metadata": {},
     "output_type": "execute_result"
    }
   ],
   "source": [
    "az.summary(m8_trace, var_names = ['alpha', 'beta_age'])"
   ]
  },
  {
   "cell_type": "code",
   "execution_count": 89,
   "id": "9cfe7552-553c-48fc-bff4-a3b0bf6ecd2d",
   "metadata": {},
   "outputs": [],
   "source": [
    "n=200\n",
    "g_on_p =1\n",
    "g_on_c = 0\n",
    "p_on_c = 2\n",
    "u_on_p = 2\n",
    "u_on_c = 2\n",
    "u = 2 * np.random.binomial(n=1,p=0.5, size=n) - 1 \n",
    "g = np.random.normal(size=n)\n",
    "p = np.random.normal(g_on_p * g + u_on_p * u)\n",
    "c = np.random.normal(g_on_c * g + u_on_c * u)\n",
    "triads = pd.DataFrame({'uobserved':u, 'granparents':g, 'parents':p, 'childrens':c})\n",
    "\n"
   ]
  },
  {
   "cell_type": "code",
   "execution_count": 91,
   "id": "afda1132-184b-4828-9616-72da3c70a2ef",
   "metadata": {},
   "outputs": [
    {
     "data": {
      "text/html": [
       "<div>\n",
       "<style scoped>\n",
       "    .dataframe tbody tr th:only-of-type {\n",
       "        vertical-align: middle;\n",
       "    }\n",
       "\n",
       "    .dataframe tbody tr th {\n",
       "        vertical-align: top;\n",
       "    }\n",
       "\n",
       "    .dataframe thead th {\n",
       "        text-align: right;\n",
       "    }\n",
       "</style>\n",
       "<table border=\"1\" class=\"dataframe\">\n",
       "  <thead>\n",
       "    <tr style=\"text-align: right;\">\n",
       "      <th></th>\n",
       "      <th>uobserved</th>\n",
       "      <th>granparents</th>\n",
       "      <th>parents</th>\n",
       "      <th>childrens</th>\n",
       "    </tr>\n",
       "  </thead>\n",
       "  <tbody>\n",
       "    <tr>\n",
       "      <th>0</th>\n",
       "      <td>1</td>\n",
       "      <td>-0.432948</td>\n",
       "      <td>2.194821</td>\n",
       "      <td>1.446184</td>\n",
       "    </tr>\n",
       "    <tr>\n",
       "      <th>1</th>\n",
       "      <td>-1</td>\n",
       "      <td>-0.000371</td>\n",
       "      <td>-1.662014</td>\n",
       "      <td>-2.697246</td>\n",
       "    </tr>\n",
       "    <tr>\n",
       "      <th>2</th>\n",
       "      <td>1</td>\n",
       "      <td>1.077268</td>\n",
       "      <td>2.517555</td>\n",
       "      <td>2.079002</td>\n",
       "    </tr>\n",
       "    <tr>\n",
       "      <th>3</th>\n",
       "      <td>-1</td>\n",
       "      <td>-1.247351</td>\n",
       "      <td>-3.055249</td>\n",
       "      <td>-2.345441</td>\n",
       "    </tr>\n",
       "    <tr>\n",
       "      <th>4</th>\n",
       "      <td>1</td>\n",
       "      <td>1.739514</td>\n",
       "      <td>1.402570</td>\n",
       "      <td>1.153817</td>\n",
       "    </tr>\n",
       "  </tbody>\n",
       "</table>\n",
       "</div>"
      ],
      "text/plain": [
       "   uobserved  granparents   parents  childrens\n",
       "0          1    -0.432948  2.194821   1.446184\n",
       "1         -1    -0.000371 -1.662014  -2.697246\n",
       "2          1     1.077268  2.517555   2.079002\n",
       "3         -1    -1.247351 -3.055249  -2.345441\n",
       "4          1     1.739514  1.402570   1.153817"
      ]
     },
     "execution_count": 91,
     "metadata": {},
     "output_type": "execute_result"
    }
   ],
   "source": [
    "triads.head()"
   ]
  },
  {
   "cell_type": "markdown",
   "id": "4832ebcb-c1d4-4cfd-a34d-363c938d7a16",
   "metadata": {},
   "source": [
    "Since there's influence of G on C through P, we control on P"
   ]
  },
  {
   "cell_type": "code",
   "execution_count": 95,
   "id": "c1f85a1e-9577-4dcb-a78a-5088b4861dff",
   "metadata": {},
   "outputs": [
    {
     "name": "stderr",
     "output_type": "stream",
     "text": [
      "/var/folders/hy/9qct0wrx5pl34rzz153ys6sw0000gp/T/ipykernel_9512/1542437129.py:1: SettingWithCopyWarning: \n",
      "A value is trying to be set on a copy of a slice from a DataFrame.\n",
      "Try using .loc[row_indexer,col_indexer] = value instead\n",
      "\n",
      "See the caveats in the documentation: https://pandas.pydata.org/pandas-docs/stable/user_guide/indexing.html#returning-a-view-versus-a-copy\n",
      "  popn['marriage_indicator'] = popn.married.apply(lambda x: 1 if x else 0)\n",
      "Auto-assigning NUTS sampler...\n",
      "Initializing NUTS using jitter+adapt_diag...\n",
      "Multiprocess sampling (4 chains in 4 jobs)\n",
      "NUTS: [alpha, beta_grandparent, beta_parent, sigma]\n"
     ]
    },
    {
     "data": {
      "text/html": [
       "\n",
       "    <div>\n",
       "        <style>\n",
       "            /* Turns off some styling */\n",
       "            progress {\n",
       "                /* gets rid of default border in Firefox and Opera. */\n",
       "                border: none;\n",
       "                /* Needs to be in here for Safari polyfill so background images work as expected. */\n",
       "                background-size: auto;\n",
       "            }\n",
       "            .progress-bar-interrupted, .progress-bar-interrupted::-webkit-progress-bar {\n",
       "                background: #F44336;\n",
       "            }\n",
       "        </style>\n",
       "      <progress value='8000' class='' max='8000' style='width:300px; height:20px; vertical-align: middle;'></progress>\n",
       "      100.00% [8000/8000 00:03<00:00 Sampling 4 chains, 0 divergences]\n",
       "    </div>\n",
       "    "
      ],
      "text/plain": [
       "<IPython.core.display.HTML object>"
      ]
     },
     "metadata": {},
     "output_type": "display_data"
    },
    {
     "name": "stderr",
     "output_type": "stream",
     "text": [
      "Sampling 4 chains for 1_000 tune and 1_000 draw iterations (4_000 + 4_000 draws total) took 18 seconds.\n"
     ]
    }
   ],
   "source": [
    "popn['marriage_indicator'] = popn.married.apply(lambda x: 1 if x else 0)\n",
    "with pm.Model() as m9:\n",
    "    sigma = pm.Exponential('sigma', 1)\n",
    "    beta_parent = pm.Normal('beta_parent', 0, 1)\n",
    "    beta_grandparent = pm.Normal('beta_grandparent', 0, 1)\n",
    "    alpha = pm.Normal('alpha', 0, 1)\n",
    "    mu = pm.Deterministic('mu', alpha + beta_parent * triads['parents'] + beta_grandparent * triads['granparents'])\n",
    "    sdr = pm.Normal('educational_achievement', mu=mu , sigma=sigma, observed=triads['childrens'])\n",
    "    m9_trace = pm.sample(return_inferencedata=True)"
   ]
  },
  {
   "cell_type": "code",
   "execution_count": 96,
   "id": "479c945c-1982-404a-882c-c5d264667c18",
   "metadata": {},
   "outputs": [
    {
     "data": {
      "text/html": [
       "<div>\n",
       "<style scoped>\n",
       "    .dataframe tbody tr th:only-of-type {\n",
       "        vertical-align: middle;\n",
       "    }\n",
       "\n",
       "    .dataframe tbody tr th {\n",
       "        vertical-align: top;\n",
       "    }\n",
       "\n",
       "    .dataframe thead th {\n",
       "        text-align: right;\n",
       "    }\n",
       "</style>\n",
       "<table border=\"1\" class=\"dataframe\">\n",
       "  <thead>\n",
       "    <tr style=\"text-align: right;\">\n",
       "      <th></th>\n",
       "      <th>mean</th>\n",
       "      <th>sd</th>\n",
       "      <th>hdi_3%</th>\n",
       "      <th>hdi_97%</th>\n",
       "      <th>mcse_mean</th>\n",
       "      <th>mcse_sd</th>\n",
       "      <th>ess_bulk</th>\n",
       "      <th>ess_tail</th>\n",
       "      <th>r_hat</th>\n",
       "    </tr>\n",
       "  </thead>\n",
       "  <tbody>\n",
       "    <tr>\n",
       "      <th>beta_parent</th>\n",
       "      <td>0.824</td>\n",
       "      <td>0.044</td>\n",
       "      <td>0.747</td>\n",
       "      <td>0.915</td>\n",
       "      <td>0.001</td>\n",
       "      <td>0.000</td>\n",
       "      <td>4643.0</td>\n",
       "      <td>3276.0</td>\n",
       "      <td>1.0</td>\n",
       "    </tr>\n",
       "    <tr>\n",
       "      <th>beta_grandparent</th>\n",
       "      <td>-0.656</td>\n",
       "      <td>0.111</td>\n",
       "      <td>-0.858</td>\n",
       "      <td>-0.443</td>\n",
       "      <td>0.002</td>\n",
       "      <td>0.001</td>\n",
       "      <td>3933.0</td>\n",
       "      <td>3153.0</td>\n",
       "      <td>1.0</td>\n",
       "    </tr>\n",
       "    <tr>\n",
       "      <th>alpha</th>\n",
       "      <td>-0.000</td>\n",
       "      <td>0.101</td>\n",
       "      <td>-0.191</td>\n",
       "      <td>0.188</td>\n",
       "      <td>0.001</td>\n",
       "      <td>0.002</td>\n",
       "      <td>6852.0</td>\n",
       "      <td>3479.0</td>\n",
       "      <td>1.0</td>\n",
       "    </tr>\n",
       "    <tr>\n",
       "      <th>sigma</th>\n",
       "      <td>1.403</td>\n",
       "      <td>0.072</td>\n",
       "      <td>1.271</td>\n",
       "      <td>1.536</td>\n",
       "      <td>0.001</td>\n",
       "      <td>0.001</td>\n",
       "      <td>4684.0</td>\n",
       "      <td>2804.0</td>\n",
       "      <td>1.0</td>\n",
       "    </tr>\n",
       "  </tbody>\n",
       "</table>\n",
       "</div>"
      ],
      "text/plain": [
       "                   mean     sd  hdi_3%  hdi_97%  mcse_mean  mcse_sd  ess_bulk  \\\n",
       "beta_parent       0.824  0.044   0.747    0.915      0.001    0.000    4643.0   \n",
       "beta_grandparent -0.656  0.111  -0.858   -0.443      0.002    0.001    3933.0   \n",
       "alpha            -0.000  0.101  -0.191    0.188      0.001    0.002    6852.0   \n",
       "sigma             1.403  0.072   1.271    1.536      0.001    0.001    4684.0   \n",
       "\n",
       "                  ess_tail  r_hat  \n",
       "beta_parent         3276.0    1.0  \n",
       "beta_grandparent    3153.0    1.0  \n",
       "alpha               3479.0    1.0  \n",
       "sigma               2804.0    1.0  "
      ]
     },
     "execution_count": 96,
     "metadata": {},
     "output_type": "execute_result"
    }
   ],
   "source": [
    "az.summary(m9_trace, var_names=['beta_parent','beta_grandparent','alpha','sigma'])"
   ]
  },
  {
   "cell_type": "code",
   "execution_count": 98,
   "id": "34f3cac5-280f-45c8-a161-e37fc769eb7c",
   "metadata": {},
   "outputs": [
    {
     "name": "stderr",
     "output_type": "stream",
     "text": [
      "/var/folders/hy/9qct0wrx5pl34rzz153ys6sw0000gp/T/ipykernel_9512/2136256069.py:1: SettingWithCopyWarning: \n",
      "A value is trying to be set on a copy of a slice from a DataFrame.\n",
      "Try using .loc[row_indexer,col_indexer] = value instead\n",
      "\n",
      "See the caveats in the documentation: https://pandas.pydata.org/pandas-docs/stable/user_guide/indexing.html#returning-a-view-versus-a-copy\n",
      "  popn['marriage_indicator'] = popn.married.apply(lambda x: 1 if x else 0)\n",
      "Auto-assigning NUTS sampler...\n",
      "Initializing NUTS using jitter+adapt_diag...\n",
      "Multiprocess sampling (4 chains in 4 jobs)\n",
      "NUTS: [alpha, beta_u, beta_grandparent, beta_parent, sigma]\n"
     ]
    },
    {
     "data": {
      "text/html": [
       "\n",
       "    <div>\n",
       "        <style>\n",
       "            /* Turns off some styling */\n",
       "            progress {\n",
       "                /* gets rid of default border in Firefox and Opera. */\n",
       "                border: none;\n",
       "                /* Needs to be in here for Safari polyfill so background images work as expected. */\n",
       "                background-size: auto;\n",
       "            }\n",
       "            .progress-bar-interrupted, .progress-bar-interrupted::-webkit-progress-bar {\n",
       "                background: #F44336;\n",
       "            }\n",
       "        </style>\n",
       "      <progress value='8000' class='' max='8000' style='width:300px; height:20px; vertical-align: middle;'></progress>\n",
       "      100.00% [8000/8000 00:04<00:00 Sampling 4 chains, 0 divergences]\n",
       "    </div>\n",
       "    "
      ],
      "text/plain": [
       "<IPython.core.display.HTML object>"
      ]
     },
     "metadata": {},
     "output_type": "display_data"
    },
    {
     "name": "stderr",
     "output_type": "stream",
     "text": [
      "Sampling 4 chains for 1_000 tune and 1_000 draw iterations (4_000 + 4_000 draws total) took 18 seconds.\n"
     ]
    }
   ],
   "source": [
    "popn['marriage_indicator'] = popn.married.apply(lambda x: 1 if x else 0)\n",
    "with pm.Model() as m10:\n",
    "    sigma = pm.Exponential('sigma', 1)\n",
    "    beta_parent = pm.Normal('beta_parent', 0, 1)\n",
    "    beta_grandparent = pm.Normal('beta_grandparent', 0, 1)\n",
    "    beta_u = pm.Normal('beta_u', 0, 1)\n",
    "    alpha = pm.Normal('alpha', 0, 1)\n",
    "    mu = pm.Deterministic('mu', alpha + beta_parent * triads['parents'] + beta_grandparent * triads['granparents']+ beta_u * triads['uobserved'])\n",
    "    sdr = pm.Normal('educational_achievement', mu=mu , sigma=sigma, observed=triads['childrens'])\n",
    "    m9_trace = pm.sample(return_inferencedata=True)"
   ]
  },
  {
   "cell_type": "code",
   "execution_count": 99,
   "id": "fee51b70-5cc0-4379-8ab7-0f272453977c",
   "metadata": {},
   "outputs": [
    {
     "data": {
      "text/html": [
       "<div>\n",
       "<style scoped>\n",
       "    .dataframe tbody tr th:only-of-type {\n",
       "        vertical-align: middle;\n",
       "    }\n",
       "\n",
       "    .dataframe tbody tr th {\n",
       "        vertical-align: top;\n",
       "    }\n",
       "\n",
       "    .dataframe thead th {\n",
       "        text-align: right;\n",
       "    }\n",
       "</style>\n",
       "<table border=\"1\" class=\"dataframe\">\n",
       "  <thead>\n",
       "    <tr style=\"text-align: right;\">\n",
       "      <th></th>\n",
       "      <th>mean</th>\n",
       "      <th>sd</th>\n",
       "      <th>hdi_3%</th>\n",
       "      <th>hdi_97%</th>\n",
       "      <th>mcse_mean</th>\n",
       "      <th>mcse_sd</th>\n",
       "      <th>ess_bulk</th>\n",
       "      <th>ess_tail</th>\n",
       "      <th>r_hat</th>\n",
       "    </tr>\n",
       "  </thead>\n",
       "  <tbody>\n",
       "    <tr>\n",
       "      <th>beta_parent</th>\n",
       "      <td>0.095</td>\n",
       "      <td>0.081</td>\n",
       "      <td>-0.060</td>\n",
       "      <td>0.247</td>\n",
       "      <td>0.002</td>\n",
       "      <td>0.001</td>\n",
       "      <td>1561.0</td>\n",
       "      <td>1973.0</td>\n",
       "      <td>1.0</td>\n",
       "    </tr>\n",
       "    <tr>\n",
       "      <th>beta_grandparent</th>\n",
       "      <td>-0.015</td>\n",
       "      <td>0.109</td>\n",
       "      <td>-0.211</td>\n",
       "      <td>0.194</td>\n",
       "      <td>0.002</td>\n",
       "      <td>0.002</td>\n",
       "      <td>1969.0</td>\n",
       "      <td>1938.0</td>\n",
       "      <td>1.0</td>\n",
       "    </tr>\n",
       "    <tr>\n",
       "      <th>beta_u</th>\n",
       "      <td>1.839</td>\n",
       "      <td>0.184</td>\n",
       "      <td>1.490</td>\n",
       "      <td>2.174</td>\n",
       "      <td>0.005</td>\n",
       "      <td>0.003</td>\n",
       "      <td>1642.0</td>\n",
       "      <td>2152.0</td>\n",
       "      <td>1.0</td>\n",
       "    </tr>\n",
       "    <tr>\n",
       "      <th>alpha</th>\n",
       "      <td>0.027</td>\n",
       "      <td>0.081</td>\n",
       "      <td>-0.123</td>\n",
       "      <td>0.174</td>\n",
       "      <td>0.001</td>\n",
       "      <td>0.001</td>\n",
       "      <td>4112.0</td>\n",
       "      <td>2300.0</td>\n",
       "      <td>1.0</td>\n",
       "    </tr>\n",
       "    <tr>\n",
       "      <th>sigma</th>\n",
       "      <td>1.130</td>\n",
       "      <td>0.056</td>\n",
       "      <td>1.026</td>\n",
       "      <td>1.234</td>\n",
       "      <td>0.001</td>\n",
       "      <td>0.001</td>\n",
       "      <td>3601.0</td>\n",
       "      <td>2653.0</td>\n",
       "      <td>1.0</td>\n",
       "    </tr>\n",
       "  </tbody>\n",
       "</table>\n",
       "</div>"
      ],
      "text/plain": [
       "                   mean     sd  hdi_3%  hdi_97%  mcse_mean  mcse_sd  ess_bulk  \\\n",
       "beta_parent       0.095  0.081  -0.060    0.247      0.002    0.001    1561.0   \n",
       "beta_grandparent -0.015  0.109  -0.211    0.194      0.002    0.002    1969.0   \n",
       "beta_u            1.839  0.184   1.490    2.174      0.005    0.003    1642.0   \n",
       "alpha             0.027  0.081  -0.123    0.174      0.001    0.001    4112.0   \n",
       "sigma             1.130  0.056   1.026    1.234      0.001    0.001    3601.0   \n",
       "\n",
       "                  ess_tail  r_hat  \n",
       "beta_parent         1973.0    1.0  \n",
       "beta_grandparent    1938.0    1.0  \n",
       "beta_u              2152.0    1.0  \n",
       "alpha               2300.0    1.0  \n",
       "sigma               2653.0    1.0  "
      ]
     },
     "execution_count": 99,
     "metadata": {},
     "output_type": "execute_result"
    }
   ],
   "source": [
    "az.summary(m9_trace, var_names=['beta_parent','beta_grandparent', 'beta_u', 'alpha','sigma'])"
   ]
  },
  {
   "cell_type": "code",
   "execution_count": null,
   "id": "15c64a75-d859-432d-a311-481aff010a94",
   "metadata": {},
   "outputs": [],
   "source": []
  }
 ],
 "metadata": {
  "kernelspec": {
   "display_name": "Python 3 (ipykernel)",
   "language": "python",
   "name": "python3"
  },
  "language_info": {
   "codemirror_mode": {
    "name": "ipython",
    "version": 3
   },
   "file_extension": ".py",
   "mimetype": "text/x-python",
   "name": "python",
   "nbconvert_exporter": "python",
   "pygments_lexer": "ipython3",
   "version": "3.8.5"
  }
 },
 "nbformat": 4,
 "nbformat_minor": 5
}
